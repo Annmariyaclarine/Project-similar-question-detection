{
  "cells": [
    {
      "cell_type": "code",
      "execution_count": 4,
      "metadata": {
        "id": "j3vthuv4bwJ2"
      },
      "outputs": [],
      "source": [
        "#importing the neccessary packages\n",
        "\n",
        "import numpy as np\n",
        "import pandas as pd\n",
        "import matplotlib.pyplot as plt\n",
        "import seaborn as sns \n",
        "import pickle"
      ]
    },
    {
      "cell_type": "code",
      "execution_count": 5,
      "metadata": {
        "id": "KZBw6UAgb4hu"
      },
      "outputs": [],
      "source": [
        "import warnings\n",
        "warnings.simplefilter(action='ignore', category=FutureWarning)"
      ]
    },
    {
      "cell_type": "code",
      "execution_count": 6,
      "metadata": {
        "id": "1cuu4W4Vb8GT",
        "colab": {
          "base_uri": "https://localhost:8080/"
        },
        "outputId": "986c5864-0827-4fc9-b0a4-309208f87d53"
      },
      "outputs": [
        {
          "output_type": "stream",
          "name": "stdout",
          "text": [
            "Mounted at /content/gdrive/\n",
            "Mounted at /content/gdrive/\n"
          ]
        }
      ],
      "source": [
        "#mounting on google drive\n",
        "\n",
        "from google.colab import drive\n",
        "drive.mount('/content/gdrive/', force_remount=True)"
      ]
    },
    {
      "cell_type": "code",
      "execution_count": 7,
      "metadata": {
        "id": "fl14WnKocA2E",
        "colab": {
          "base_uri": "https://localhost:8080/",
          "height": 895
        },
        "outputId": "380220b7-94db-484f-89c4-4d13e60155bf"
      },
      "outputs": [
        {
          "output_type": "stream",
          "name": "stdout",
          "text": [
            "/content/gdrive/MyDrive/MainProject\n"
          ]
        },
        {
          "output_type": "stream",
          "name": "stderr",
          "text": [
            "ERROR:root:Internal Python error in the inspect module.\n",
            "Below is the traceback from this internal error.\n",
            "\n"
          ]
        },
        {
          "output_type": "stream",
          "name": "stdout",
          "text": [
            "Traceback (most recent call last):\n",
            "  File \"/usr/local/lib/python3.9/dist-packages/IPython/core/interactiveshell.py\", line 3326, in run_code\n",
            "    exec(code_obj, self.user_global_ns, self.user_ns)\n",
            "  File \"<ipython-input-7-dae77a66ab65>\", line 1, in <module>\n",
            "    get_ipython().run_line_magic('cd', 'gdrive/MyDrive/MainProject')\n",
            "  File \"/usr/local/lib/python3.9/dist-packages/IPython/core/interactiveshell.py\", line 2314, in run_line_magic\n",
            "    result = fn(*args, **kwargs)\n",
            "  File \"<decorator-gen-85>\", line 2, in cd\n",
            "  File \"/usr/local/lib/python3.9/dist-packages/IPython/core/magic.py\", line 187, in <lambda>\n",
            "    call = lambda f, *a, **k: f(*a, **k)\n",
            "  File \"/usr/local/lib/python3.9/dist-packages/IPython/core/magics/osm.py\", line 334, in cd\n",
            "    oldcwd = os.getcwd()\n",
            "OSError: [Errno 107] Transport endpoint is not connected\n",
            "\n",
            "During handling of the above exception, another exception occurred:\n",
            "\n",
            "Traceback (most recent call last):\n",
            "  File \"/usr/local/lib/python3.9/dist-packages/IPython/core/interactiveshell.py\", line 2040, in showtraceback\n",
            "    stb = value._render_traceback_()\n",
            "AttributeError: 'OSError' object has no attribute '_render_traceback_'\n",
            "\n",
            "During handling of the above exception, another exception occurred:\n",
            "\n",
            "Traceback (most recent call last):\n",
            "  File \"/usr/local/lib/python3.9/dist-packages/IPython/core/ultratb.py\", line 1101, in get_records\n",
            "    return _fixed_getinnerframes(etb, number_of_lines_of_context, tb_offset)\n",
            "  File \"/usr/local/lib/python3.9/dist-packages/IPython/core/ultratb.py\", line 319, in wrapped\n",
            "    return f(*args, **kwargs)\n",
            "  File \"/usr/local/lib/python3.9/dist-packages/IPython/core/ultratb.py\", line 353, in _fixed_getinnerframes\n",
            "    records = fix_frame_records_filenames(inspect.getinnerframes(etb, context))\n",
            "  File \"/usr/lib/python3.9/inspect.py\", line 1543, in getinnerframes\n",
            "    frameinfo = (tb.tb_frame,) + getframeinfo(tb, context)\n",
            "  File \"/usr/lib/python3.9/inspect.py\", line 1501, in getframeinfo\n",
            "    filename = getsourcefile(frame) or getfile(frame)\n",
            "  File \"/usr/lib/python3.9/inspect.py\", line 709, in getsourcefile\n",
            "    if getattr(getmodule(object, filename), '__loader__', None) is not None:\n",
            "  File \"/usr/lib/python3.9/inspect.py\", line 738, in getmodule\n",
            "    file = getabsfile(object, _filename)\n",
            "  File \"/usr/lib/python3.9/inspect.py\", line 722, in getabsfile\n",
            "    return os.path.normcase(os.path.abspath(_filename))\n",
            "  File \"/usr/lib/python3.9/posixpath.py\", line 380, in abspath\n",
            "    cwd = os.getcwd()\n",
            "OSError: [Errno 107] Transport endpoint is not connected\n"
          ]
        },
        {
          "output_type": "error",
          "ename": "OSError",
          "evalue": "ignored",
          "traceback": [
            "\u001b[0;31m---------------------------------------------------------------------------\u001b[0m"
          ]
        }
      ],
      "source": [
        "%cd gdrive/MyDrive/MainProject"
      ]
    },
    {
      "cell_type": "code",
      "source": [
        "!cat /proc/meminfo | grep 'MemAvailable\\|MemFree\\|Buffers\\|^Cached'"
      ],
      "metadata": {
        "colab": {
          "base_uri": "https://localhost:8080/"
        },
        "id": "d-5tNtD9gIL4",
        "outputId": "b2bdd660-f0f0-4927-b22e-3f27ff0daf0b"
      },
      "execution_count": null,
      "outputs": [
        {
          "output_type": "stream",
          "name": "stdout",
          "text": [
            "MemFree:         8376572 kB\n",
            "MemAvailable:   11836500 kB\n",
            "Buffers:          347468 kB\n",
            "Cached:          3271412 kB\n"
          ]
        }
      ]
    },
    {
      "cell_type": "code",
      "source": [
        "import gc\n",
        "gc.collect()"
      ],
      "metadata": {
        "colab": {
          "base_uri": "https://localhost:8080/"
        },
        "id": "9-rejHR4hjXn",
        "outputId": "2a4ad680-e749-4af4-c2de-c6e3e7243de2"
      },
      "execution_count": null,
      "outputs": [
        {
          "output_type": "execute_result",
          "data": {
            "text/plain": [
              "31"
            ]
          },
          "metadata": {},
          "execution_count": 6
        }
      ]
    },
    {
      "cell_type": "code",
      "source": [
        "!cat /proc/meminfo | grep 'MemAvailable\\|MemFree\\|Buffers\\|^Cached'"
      ],
      "metadata": {
        "colab": {
          "base_uri": "https://localhost:8080/"
        },
        "id": "s-hUzK-SgfzY",
        "outputId": "03f8ecdf-07e9-45ee-8d06-30d5c323bb89"
      },
      "execution_count": null,
      "outputs": [
        {
          "output_type": "stream",
          "name": "stdout",
          "text": [
            "MemFree:         8505260 kB\n",
            "MemAvailable:   11853956 kB\n",
            "Buffers:          340008 kB\n",
            "Cached:          3165648 kB\n"
          ]
        }
      ]
    },
    {
      "cell_type": "code",
      "source": [
        "!pip install psutil\n",
        "\n",
        "import psutil\n",
        "\n",
        "ram_gb = psutil.virtual_memory().available / 1e9\n",
        "print('Available RAM:', ram_gb, 'GB')"
      ],
      "metadata": {
        "colab": {
          "base_uri": "https://localhost:8080/"
        },
        "id": "AgHIJomfiKPq",
        "outputId": "09bdfd46-3fc6-49e8-da9a-a873c1576d92"
      },
      "execution_count": null,
      "outputs": [
        {
          "output_type": "stream",
          "name": "stdout",
          "text": [
            "Looking in indexes: https://pypi.org/simple, https://us-python.pkg.dev/colab-wheels/public/simple/\n",
            "Requirement already satisfied: psutil in /usr/local/lib/python3.8/dist-packages (5.4.8)\n",
            "Available RAM: 12.133380096 GB\n"
          ]
        }
      ]
    },
    {
      "cell_type": "code",
      "source": [
        "# a = []\n",
        "# while(1):\n",
        "#     a.append('1')"
      ],
      "metadata": {
        "id": "b_pyNcy75zGe"
      },
      "execution_count": null,
      "outputs": []
    },
    {
      "cell_type": "code",
      "execution_count": null,
      "metadata": {
        "colab": {
          "base_uri": "https://localhost:8080/",
          "height": 206
        },
        "id": "NvsZFfIecD1k",
        "outputId": "8f68e97d-5475-4365-fccf-3ce4e0ed6f6c"
      },
      "outputs": [
        {
          "output_type": "execute_result",
          "data": {
            "text/plain": [
              "   id  qid1  qid2                                          question1  \\\n",
              "0   0     1     2  What is the step by step guide to invest in sh...   \n",
              "1   1     3     4  What is the story of Kohinoor (Koh-i-Noor) Dia...   \n",
              "2   2     5     6  How can I increase the speed of my internet co...   \n",
              "3   3     7     8  Why am I mentally very lonely? How can I solve...   \n",
              "4   4     9    10  Which one dissolve in water quikly sugar, salt...   \n",
              "\n",
              "                                           question2 is_duplicate  \n",
              "0  What is the step by step guide to invest in sh...           no  \n",
              "1  What would happen if the Indian government sto...           no  \n",
              "2  How can Internet speed be increased by hacking...           no  \n",
              "3  Find the remainder when [math]23^{24}[/math] i...           no  \n",
              "4            Which fish would survive in salt water?           no  "
            ],
            "text/html": [
              "\n",
              "  <div id=\"df-6a211c0e-db1b-49dc-9f09-1eeb4b9332dd\">\n",
              "    <div class=\"colab-df-container\">\n",
              "      <div>\n",
              "<style scoped>\n",
              "    .dataframe tbody tr th:only-of-type {\n",
              "        vertical-align: middle;\n",
              "    }\n",
              "\n",
              "    .dataframe tbody tr th {\n",
              "        vertical-align: top;\n",
              "    }\n",
              "\n",
              "    .dataframe thead th {\n",
              "        text-align: right;\n",
              "    }\n",
              "</style>\n",
              "<table border=\"1\" class=\"dataframe\">\n",
              "  <thead>\n",
              "    <tr style=\"text-align: right;\">\n",
              "      <th></th>\n",
              "      <th>id</th>\n",
              "      <th>qid1</th>\n",
              "      <th>qid2</th>\n",
              "      <th>question1</th>\n",
              "      <th>question2</th>\n",
              "      <th>is_duplicate</th>\n",
              "    </tr>\n",
              "  </thead>\n",
              "  <tbody>\n",
              "    <tr>\n",
              "      <th>0</th>\n",
              "      <td>0</td>\n",
              "      <td>1</td>\n",
              "      <td>2</td>\n",
              "      <td>What is the step by step guide to invest in sh...</td>\n",
              "      <td>What is the step by step guide to invest in sh...</td>\n",
              "      <td>no</td>\n",
              "    </tr>\n",
              "    <tr>\n",
              "      <th>1</th>\n",
              "      <td>1</td>\n",
              "      <td>3</td>\n",
              "      <td>4</td>\n",
              "      <td>What is the story of Kohinoor (Koh-i-Noor) Dia...</td>\n",
              "      <td>What would happen if the Indian government sto...</td>\n",
              "      <td>no</td>\n",
              "    </tr>\n",
              "    <tr>\n",
              "      <th>2</th>\n",
              "      <td>2</td>\n",
              "      <td>5</td>\n",
              "      <td>6</td>\n",
              "      <td>How can I increase the speed of my internet co...</td>\n",
              "      <td>How can Internet speed be increased by hacking...</td>\n",
              "      <td>no</td>\n",
              "    </tr>\n",
              "    <tr>\n",
              "      <th>3</th>\n",
              "      <td>3</td>\n",
              "      <td>7</td>\n",
              "      <td>8</td>\n",
              "      <td>Why am I mentally very lonely? How can I solve...</td>\n",
              "      <td>Find the remainder when [math]23^{24}[/math] i...</td>\n",
              "      <td>no</td>\n",
              "    </tr>\n",
              "    <tr>\n",
              "      <th>4</th>\n",
              "      <td>4</td>\n",
              "      <td>9</td>\n",
              "      <td>10</td>\n",
              "      <td>Which one dissolve in water quikly sugar, salt...</td>\n",
              "      <td>Which fish would survive in salt water?</td>\n",
              "      <td>no</td>\n",
              "    </tr>\n",
              "  </tbody>\n",
              "</table>\n",
              "</div>\n",
              "      <button class=\"colab-df-convert\" onclick=\"convertToInteractive('df-6a211c0e-db1b-49dc-9f09-1eeb4b9332dd')\"\n",
              "              title=\"Convert this dataframe to an interactive table.\"\n",
              "              style=\"display:none;\">\n",
              "        \n",
              "  <svg xmlns=\"http://www.w3.org/2000/svg\" height=\"24px\"viewBox=\"0 0 24 24\"\n",
              "       width=\"24px\">\n",
              "    <path d=\"M0 0h24v24H0V0z\" fill=\"none\"/>\n",
              "    <path d=\"M18.56 5.44l.94 2.06.94-2.06 2.06-.94-2.06-.94-.94-2.06-.94 2.06-2.06.94zm-11 1L8.5 8.5l.94-2.06 2.06-.94-2.06-.94L8.5 2.5l-.94 2.06-2.06.94zm10 10l.94 2.06.94-2.06 2.06-.94-2.06-.94-.94-2.06-.94 2.06-2.06.94z\"/><path d=\"M17.41 7.96l-1.37-1.37c-.4-.4-.92-.59-1.43-.59-.52 0-1.04.2-1.43.59L10.3 9.45l-7.72 7.72c-.78.78-.78 2.05 0 2.83L4 21.41c.39.39.9.59 1.41.59.51 0 1.02-.2 1.41-.59l7.78-7.78 2.81-2.81c.8-.78.8-2.07 0-2.86zM5.41 20L4 18.59l7.72-7.72 1.47 1.35L5.41 20z\"/>\n",
              "  </svg>\n",
              "      </button>\n",
              "      \n",
              "  <style>\n",
              "    .colab-df-container {\n",
              "      display:flex;\n",
              "      flex-wrap:wrap;\n",
              "      gap: 12px;\n",
              "    }\n",
              "\n",
              "    .colab-df-convert {\n",
              "      background-color: #E8F0FE;\n",
              "      border: none;\n",
              "      border-radius: 50%;\n",
              "      cursor: pointer;\n",
              "      display: none;\n",
              "      fill: #1967D2;\n",
              "      height: 32px;\n",
              "      padding: 0 0 0 0;\n",
              "      width: 32px;\n",
              "    }\n",
              "\n",
              "    .colab-df-convert:hover {\n",
              "      background-color: #E2EBFA;\n",
              "      box-shadow: 0px 1px 2px rgba(60, 64, 67, 0.3), 0px 1px 3px 1px rgba(60, 64, 67, 0.15);\n",
              "      fill: #174EA6;\n",
              "    }\n",
              "\n",
              "    [theme=dark] .colab-df-convert {\n",
              "      background-color: #3B4455;\n",
              "      fill: #D2E3FC;\n",
              "    }\n",
              "\n",
              "    [theme=dark] .colab-df-convert:hover {\n",
              "      background-color: #434B5C;\n",
              "      box-shadow: 0px 1px 3px 1px rgba(0, 0, 0, 0.15);\n",
              "      filter: drop-shadow(0px 1px 2px rgba(0, 0, 0, 0.3));\n",
              "      fill: #FFFFFF;\n",
              "    }\n",
              "  </style>\n",
              "\n",
              "      <script>\n",
              "        const buttonEl =\n",
              "          document.querySelector('#df-6a211c0e-db1b-49dc-9f09-1eeb4b9332dd button.colab-df-convert');\n",
              "        buttonEl.style.display =\n",
              "          google.colab.kernel.accessAllowed ? 'block' : 'none';\n",
              "\n",
              "        async function convertToInteractive(key) {\n",
              "          const element = document.querySelector('#df-6a211c0e-db1b-49dc-9f09-1eeb4b9332dd');\n",
              "          const dataTable =\n",
              "            await google.colab.kernel.invokeFunction('convertToInteractive',\n",
              "                                                     [key], {});\n",
              "          if (!dataTable) return;\n",
              "\n",
              "          const docLinkHtml = 'Like what you see? Visit the ' +\n",
              "            '<a target=\"_blank\" href=https://colab.research.google.com/notebooks/data_table.ipynb>data table notebook</a>'\n",
              "            + ' to learn more about interactive tables.';\n",
              "          element.innerHTML = '';\n",
              "          dataTable['output_type'] = 'display_data';\n",
              "          await google.colab.output.renderOutput(dataTable, element);\n",
              "          const docLink = document.createElement('div');\n",
              "          docLink.innerHTML = docLinkHtml;\n",
              "          element.appendChild(docLink);\n",
              "        }\n",
              "      </script>\n",
              "    </div>\n",
              "  </div>\n",
              "  "
            ]
          },
          "metadata": {},
          "execution_count": 11
        }
      ],
      "source": [
        "#reading and checking the basic structure of the data\n",
        "data = pd.read_csv(\"train_new1.csv\",encoding='latin-1')\n",
        "data.head()"
      ]
    },
    {
      "cell_type": "code",
      "execution_count": null,
      "metadata": {
        "colab": {
          "base_uri": "https://localhost:8080/",
          "height": 206
        },
        "id": "bsNo_YPCeVct",
        "outputId": "ce484df5-baa8-49f6-fed9-896328a0703d"
      },
      "outputs": [
        {
          "output_type": "execute_result",
          "data": {
            "text/plain": [
              "                                           question1  \\\n",
              "0  What is the step by step guide to invest in sh...   \n",
              "1  What is the story of Kohinoor (Koh-i-Noor) Dia...   \n",
              "2  How can I increase the speed of my internet co...   \n",
              "3  Why am I mentally very lonely? How can I solve...   \n",
              "4  Which one dissolve in water quikly sugar, salt...   \n",
              "\n",
              "                                           question2 is_duplicate  \n",
              "0  What is the step by step guide to invest in sh...           no  \n",
              "1  What would happen if the Indian government sto...           no  \n",
              "2  How can Internet speed be increased by hacking...           no  \n",
              "3  Find the remainder when [math]23^{24}[/math] i...           no  \n",
              "4            Which fish would survive in salt water?           no  "
            ],
            "text/html": [
              "\n",
              "  <div id=\"df-f978d55a-fa80-4293-8360-b1adb64a84af\">\n",
              "    <div class=\"colab-df-container\">\n",
              "      <div>\n",
              "<style scoped>\n",
              "    .dataframe tbody tr th:only-of-type {\n",
              "        vertical-align: middle;\n",
              "    }\n",
              "\n",
              "    .dataframe tbody tr th {\n",
              "        vertical-align: top;\n",
              "    }\n",
              "\n",
              "    .dataframe thead th {\n",
              "        text-align: right;\n",
              "    }\n",
              "</style>\n",
              "<table border=\"1\" class=\"dataframe\">\n",
              "  <thead>\n",
              "    <tr style=\"text-align: right;\">\n",
              "      <th></th>\n",
              "      <th>question1</th>\n",
              "      <th>question2</th>\n",
              "      <th>is_duplicate</th>\n",
              "    </tr>\n",
              "  </thead>\n",
              "  <tbody>\n",
              "    <tr>\n",
              "      <th>0</th>\n",
              "      <td>What is the step by step guide to invest in sh...</td>\n",
              "      <td>What is the step by step guide to invest in sh...</td>\n",
              "      <td>no</td>\n",
              "    </tr>\n",
              "    <tr>\n",
              "      <th>1</th>\n",
              "      <td>What is the story of Kohinoor (Koh-i-Noor) Dia...</td>\n",
              "      <td>What would happen if the Indian government sto...</td>\n",
              "      <td>no</td>\n",
              "    </tr>\n",
              "    <tr>\n",
              "      <th>2</th>\n",
              "      <td>How can I increase the speed of my internet co...</td>\n",
              "      <td>How can Internet speed be increased by hacking...</td>\n",
              "      <td>no</td>\n",
              "    </tr>\n",
              "    <tr>\n",
              "      <th>3</th>\n",
              "      <td>Why am I mentally very lonely? How can I solve...</td>\n",
              "      <td>Find the remainder when [math]23^{24}[/math] i...</td>\n",
              "      <td>no</td>\n",
              "    </tr>\n",
              "    <tr>\n",
              "      <th>4</th>\n",
              "      <td>Which one dissolve in water quikly sugar, salt...</td>\n",
              "      <td>Which fish would survive in salt water?</td>\n",
              "      <td>no</td>\n",
              "    </tr>\n",
              "  </tbody>\n",
              "</table>\n",
              "</div>\n",
              "      <button class=\"colab-df-convert\" onclick=\"convertToInteractive('df-f978d55a-fa80-4293-8360-b1adb64a84af')\"\n",
              "              title=\"Convert this dataframe to an interactive table.\"\n",
              "              style=\"display:none;\">\n",
              "        \n",
              "  <svg xmlns=\"http://www.w3.org/2000/svg\" height=\"24px\"viewBox=\"0 0 24 24\"\n",
              "       width=\"24px\">\n",
              "    <path d=\"M0 0h24v24H0V0z\" fill=\"none\"/>\n",
              "    <path d=\"M18.56 5.44l.94 2.06.94-2.06 2.06-.94-2.06-.94-.94-2.06-.94 2.06-2.06.94zm-11 1L8.5 8.5l.94-2.06 2.06-.94-2.06-.94L8.5 2.5l-.94 2.06-2.06.94zm10 10l.94 2.06.94-2.06 2.06-.94-2.06-.94-.94-2.06-.94 2.06-2.06.94z\"/><path d=\"M17.41 7.96l-1.37-1.37c-.4-.4-.92-.59-1.43-.59-.52 0-1.04.2-1.43.59L10.3 9.45l-7.72 7.72c-.78.78-.78 2.05 0 2.83L4 21.41c.39.39.9.59 1.41.59.51 0 1.02-.2 1.41-.59l7.78-7.78 2.81-2.81c.8-.78.8-2.07 0-2.86zM5.41 20L4 18.59l7.72-7.72 1.47 1.35L5.41 20z\"/>\n",
              "  </svg>\n",
              "      </button>\n",
              "      \n",
              "  <style>\n",
              "    .colab-df-container {\n",
              "      display:flex;\n",
              "      flex-wrap:wrap;\n",
              "      gap: 12px;\n",
              "    }\n",
              "\n",
              "    .colab-df-convert {\n",
              "      background-color: #E8F0FE;\n",
              "      border: none;\n",
              "      border-radius: 50%;\n",
              "      cursor: pointer;\n",
              "      display: none;\n",
              "      fill: #1967D2;\n",
              "      height: 32px;\n",
              "      padding: 0 0 0 0;\n",
              "      width: 32px;\n",
              "    }\n",
              "\n",
              "    .colab-df-convert:hover {\n",
              "      background-color: #E2EBFA;\n",
              "      box-shadow: 0px 1px 2px rgba(60, 64, 67, 0.3), 0px 1px 3px 1px rgba(60, 64, 67, 0.15);\n",
              "      fill: #174EA6;\n",
              "    }\n",
              "\n",
              "    [theme=dark] .colab-df-convert {\n",
              "      background-color: #3B4455;\n",
              "      fill: #D2E3FC;\n",
              "    }\n",
              "\n",
              "    [theme=dark] .colab-df-convert:hover {\n",
              "      background-color: #434B5C;\n",
              "      box-shadow: 0px 1px 3px 1px rgba(0, 0, 0, 0.15);\n",
              "      filter: drop-shadow(0px 1px 2px rgba(0, 0, 0, 0.3));\n",
              "      fill: #FFFFFF;\n",
              "    }\n",
              "  </style>\n",
              "\n",
              "      <script>\n",
              "        const buttonEl =\n",
              "          document.querySelector('#df-f978d55a-fa80-4293-8360-b1adb64a84af button.colab-df-convert');\n",
              "        buttonEl.style.display =\n",
              "          google.colab.kernel.accessAllowed ? 'block' : 'none';\n",
              "\n",
              "        async function convertToInteractive(key) {\n",
              "          const element = document.querySelector('#df-f978d55a-fa80-4293-8360-b1adb64a84af');\n",
              "          const dataTable =\n",
              "            await google.colab.kernel.invokeFunction('convertToInteractive',\n",
              "                                                     [key], {});\n",
              "          if (!dataTable) return;\n",
              "\n",
              "          const docLinkHtml = 'Like what you see? Visit the ' +\n",
              "            '<a target=\"_blank\" href=https://colab.research.google.com/notebooks/data_table.ipynb>data table notebook</a>'\n",
              "            + ' to learn more about interactive tables.';\n",
              "          element.innerHTML = '';\n",
              "          dataTable['output_type'] = 'display_data';\n",
              "          await google.colab.output.renderOutput(dataTable, element);\n",
              "          const docLink = document.createElement('div');\n",
              "          docLink.innerHTML = docLinkHtml;\n",
              "          element.appendChild(docLink);\n",
              "        }\n",
              "      </script>\n",
              "    </div>\n",
              "  </div>\n",
              "  "
            ]
          },
          "metadata": {},
          "execution_count": 6
        }
      ],
      "source": [
        "# Dropping the redundant looking columns \n",
        "to_drop = [\"id\",\"qid1\",\"qid2\"]\n",
        "data = data.drop(data[to_drop], axis=1)\n",
        "data.head()"
      ]
    },
    {
      "cell_type": "code",
      "source": [
        "# using info method\n",
        "data.info()"
      ],
      "metadata": {
        "colab": {
          "base_uri": "https://localhost:8080/"
        },
        "id": "bFX5PKIUWbMJ",
        "outputId": "909436a8-d224-487a-a07d-a319fb4f319d"
      },
      "execution_count": null,
      "outputs": [
        {
          "output_type": "stream",
          "name": "stdout",
          "text": [
            "<class 'pandas.core.frame.DataFrame'>\n",
            "RangeIndex: 404290 entries, 0 to 404289\n",
            "Data columns (total 3 columns):\n",
            " #   Column        Non-Null Count   Dtype \n",
            "---  ------        --------------   ----- \n",
            " 0   question1     404290 non-null  object\n",
            " 1   question2     404290 non-null  object\n",
            " 2   is_duplicate  404290 non-null  object\n",
            "dtypes: object(3)\n",
            "memory usage: 9.3+ MB\n"
          ]
        }
      ]
    },
    {
      "cell_type": "code",
      "source": [
        "# statistical info of dataset\n",
        "data.describe()"
      ],
      "metadata": {
        "colab": {
          "base_uri": "https://localhost:8080/",
          "height": 174
        },
        "id": "mhtZ8-itWdXJ",
        "outputId": "549c408f-e6f6-40f3-ae21-84bda880515e"
      },
      "execution_count": null,
      "outputs": [
        {
          "output_type": "execute_result",
          "data": {
            "text/plain": [
              "                                    question1  \\\n",
              "count                                  404290   \n",
              "unique                                 290457   \n",
              "top     How do I improve my English speaking?   \n",
              "freq                                       50   \n",
              "\n",
              "                                                question2 is_duplicate  \n",
              "count                                              404290       404290  \n",
              "unique                                             299175            2  \n",
              "top     How can you look at someone's private Instagra...           no  \n",
              "freq                                                  120       255027  "
            ],
            "text/html": [
              "\n",
              "  <div id=\"df-0b248065-c9cb-40c6-9015-92d31dab8944\">\n",
              "    <div class=\"colab-df-container\">\n",
              "      <div>\n",
              "<style scoped>\n",
              "    .dataframe tbody tr th:only-of-type {\n",
              "        vertical-align: middle;\n",
              "    }\n",
              "\n",
              "    .dataframe tbody tr th {\n",
              "        vertical-align: top;\n",
              "    }\n",
              "\n",
              "    .dataframe thead th {\n",
              "        text-align: right;\n",
              "    }\n",
              "</style>\n",
              "<table border=\"1\" class=\"dataframe\">\n",
              "  <thead>\n",
              "    <tr style=\"text-align: right;\">\n",
              "      <th></th>\n",
              "      <th>question1</th>\n",
              "      <th>question2</th>\n",
              "      <th>is_duplicate</th>\n",
              "    </tr>\n",
              "  </thead>\n",
              "  <tbody>\n",
              "    <tr>\n",
              "      <th>count</th>\n",
              "      <td>404290</td>\n",
              "      <td>404290</td>\n",
              "      <td>404290</td>\n",
              "    </tr>\n",
              "    <tr>\n",
              "      <th>unique</th>\n",
              "      <td>290457</td>\n",
              "      <td>299175</td>\n",
              "      <td>2</td>\n",
              "    </tr>\n",
              "    <tr>\n",
              "      <th>top</th>\n",
              "      <td>How do I improve my English speaking?</td>\n",
              "      <td>How can you look at someone's private Instagra...</td>\n",
              "      <td>no</td>\n",
              "    </tr>\n",
              "    <tr>\n",
              "      <th>freq</th>\n",
              "      <td>50</td>\n",
              "      <td>120</td>\n",
              "      <td>255027</td>\n",
              "    </tr>\n",
              "  </tbody>\n",
              "</table>\n",
              "</div>\n",
              "      <button class=\"colab-df-convert\" onclick=\"convertToInteractive('df-0b248065-c9cb-40c6-9015-92d31dab8944')\"\n",
              "              title=\"Convert this dataframe to an interactive table.\"\n",
              "              style=\"display:none;\">\n",
              "        \n",
              "  <svg xmlns=\"http://www.w3.org/2000/svg\" height=\"24px\"viewBox=\"0 0 24 24\"\n",
              "       width=\"24px\">\n",
              "    <path d=\"M0 0h24v24H0V0z\" fill=\"none\"/>\n",
              "    <path d=\"M18.56 5.44l.94 2.06.94-2.06 2.06-.94-2.06-.94-.94-2.06-.94 2.06-2.06.94zm-11 1L8.5 8.5l.94-2.06 2.06-.94-2.06-.94L8.5 2.5l-.94 2.06-2.06.94zm10 10l.94 2.06.94-2.06 2.06-.94-2.06-.94-.94-2.06-.94 2.06-2.06.94z\"/><path d=\"M17.41 7.96l-1.37-1.37c-.4-.4-.92-.59-1.43-.59-.52 0-1.04.2-1.43.59L10.3 9.45l-7.72 7.72c-.78.78-.78 2.05 0 2.83L4 21.41c.39.39.9.59 1.41.59.51 0 1.02-.2 1.41-.59l7.78-7.78 2.81-2.81c.8-.78.8-2.07 0-2.86zM5.41 20L4 18.59l7.72-7.72 1.47 1.35L5.41 20z\"/>\n",
              "  </svg>\n",
              "      </button>\n",
              "      \n",
              "  <style>\n",
              "    .colab-df-container {\n",
              "      display:flex;\n",
              "      flex-wrap:wrap;\n",
              "      gap: 12px;\n",
              "    }\n",
              "\n",
              "    .colab-df-convert {\n",
              "      background-color: #E8F0FE;\n",
              "      border: none;\n",
              "      border-radius: 50%;\n",
              "      cursor: pointer;\n",
              "      display: none;\n",
              "      fill: #1967D2;\n",
              "      height: 32px;\n",
              "      padding: 0 0 0 0;\n",
              "      width: 32px;\n",
              "    }\n",
              "\n",
              "    .colab-df-convert:hover {\n",
              "      background-color: #E2EBFA;\n",
              "      box-shadow: 0px 1px 2px rgba(60, 64, 67, 0.3), 0px 1px 3px 1px rgba(60, 64, 67, 0.15);\n",
              "      fill: #174EA6;\n",
              "    }\n",
              "\n",
              "    [theme=dark] .colab-df-convert {\n",
              "      background-color: #3B4455;\n",
              "      fill: #D2E3FC;\n",
              "    }\n",
              "\n",
              "    [theme=dark] .colab-df-convert:hover {\n",
              "      background-color: #434B5C;\n",
              "      box-shadow: 0px 1px 3px 1px rgba(0, 0, 0, 0.15);\n",
              "      filter: drop-shadow(0px 1px 2px rgba(0, 0, 0, 0.3));\n",
              "      fill: #FFFFFF;\n",
              "    }\n",
              "  </style>\n",
              "\n",
              "      <script>\n",
              "        const buttonEl =\n",
              "          document.querySelector('#df-0b248065-c9cb-40c6-9015-92d31dab8944 button.colab-df-convert');\n",
              "        buttonEl.style.display =\n",
              "          google.colab.kernel.accessAllowed ? 'block' : 'none';\n",
              "\n",
              "        async function convertToInteractive(key) {\n",
              "          const element = document.querySelector('#df-0b248065-c9cb-40c6-9015-92d31dab8944');\n",
              "          const dataTable =\n",
              "            await google.colab.kernel.invokeFunction('convertToInteractive',\n",
              "                                                     [key], {});\n",
              "          if (!dataTable) return;\n",
              "\n",
              "          const docLinkHtml = 'Like what you see? Visit the ' +\n",
              "            '<a target=\"_blank\" href=https://colab.research.google.com/notebooks/data_table.ipynb>data table notebook</a>'\n",
              "            + ' to learn more about interactive tables.';\n",
              "          element.innerHTML = '';\n",
              "          dataTable['output_type'] = 'display_data';\n",
              "          await google.colab.output.renderOutput(dataTable, element);\n",
              "          const docLink = document.createElement('div');\n",
              "          docLink.innerHTML = docLinkHtml;\n",
              "          element.appendChild(docLink);\n",
              "        }\n",
              "      </script>\n",
              "    </div>\n",
              "  </div>\n",
              "  "
            ]
          },
          "metadata": {},
          "execution_count": 8
        }
      ]
    },
    {
      "cell_type": "code",
      "execution_count": null,
      "metadata": {
        "id": "1LNCCND6cldG"
      },
      "outputs": [],
      "source": [
        "# # Mapping Values for labels  \n",
        "# data['is_duplicate'] = data['is_duplicate'].map({'no': 0, 'yes': 1}) \n",
        "# data.head(8)"
      ]
    },
    {
      "cell_type": "code",
      "source": [
        "from sklearn import preprocessing\n",
        "le=preprocessing.LabelEncoder()\n",
        "data['is_duplicate']=le.fit_transform(data['is_duplicate'])"
      ],
      "metadata": {
        "id": "TCLU7KKDdIDD"
      },
      "execution_count": null,
      "outputs": []
    },
    {
      "cell_type": "code",
      "source": [
        "data['is_duplicate'].unique()"
      ],
      "metadata": {
        "colab": {
          "base_uri": "https://localhost:8080/"
        },
        "id": "z6L3FYIHpeXG",
        "outputId": "4b689bbb-82dd-4b0d-f2b1-693ea61799b7"
      },
      "execution_count": null,
      "outputs": [
        {
          "output_type": "execute_result",
          "data": {
            "text/plain": [
              "array([0, 1])"
            ]
          },
          "metadata": {},
          "execution_count": 11
        }
      ]
    },
    {
      "cell_type": "code",
      "source": [
        "dup=data[data['is_duplicate']==1]\n",
        "org=data[data['is_duplicate']==0]"
      ],
      "metadata": {
        "id": "fLMfgQqmeUf1"
      },
      "execution_count": null,
      "outputs": []
    },
    {
      "cell_type": "code",
      "source": [
        "data.head()"
      ],
      "metadata": {
        "colab": {
          "base_uri": "https://localhost:8080/",
          "height": 206
        },
        "id": "g1c9QrM5j980",
        "outputId": "52c3e159-7ec7-4797-fce3-60c99a3484dc"
      },
      "execution_count": null,
      "outputs": [
        {
          "output_type": "execute_result",
          "data": {
            "text/plain": [
              "                                           question1  \\\n",
              "0  What is the step by step guide to invest in sh...   \n",
              "1  What is the story of Kohinoor (Koh-i-Noor) Dia...   \n",
              "2  How can I increase the speed of my internet co...   \n",
              "3  Why am I mentally very lonely? How can I solve...   \n",
              "4  Which one dissolve in water quikly sugar, salt...   \n",
              "\n",
              "                                           question2  is_duplicate  \n",
              "0  What is the step by step guide to invest in sh...             0  \n",
              "1  What would happen if the Indian government sto...             0  \n",
              "2  How can Internet speed be increased by hacking...             0  \n",
              "3  Find the remainder when [math]23^{24}[/math] i...             0  \n",
              "4            Which fish would survive in salt water?             0  "
            ],
            "text/html": [
              "\n",
              "  <div id=\"df-907f3281-818f-49b4-9ac7-53f90d5bb0c6\">\n",
              "    <div class=\"colab-df-container\">\n",
              "      <div>\n",
              "<style scoped>\n",
              "    .dataframe tbody tr th:only-of-type {\n",
              "        vertical-align: middle;\n",
              "    }\n",
              "\n",
              "    .dataframe tbody tr th {\n",
              "        vertical-align: top;\n",
              "    }\n",
              "\n",
              "    .dataframe thead th {\n",
              "        text-align: right;\n",
              "    }\n",
              "</style>\n",
              "<table border=\"1\" class=\"dataframe\">\n",
              "  <thead>\n",
              "    <tr style=\"text-align: right;\">\n",
              "      <th></th>\n",
              "      <th>question1</th>\n",
              "      <th>question2</th>\n",
              "      <th>is_duplicate</th>\n",
              "    </tr>\n",
              "  </thead>\n",
              "  <tbody>\n",
              "    <tr>\n",
              "      <th>0</th>\n",
              "      <td>What is the step by step guide to invest in sh...</td>\n",
              "      <td>What is the step by step guide to invest in sh...</td>\n",
              "      <td>0</td>\n",
              "    </tr>\n",
              "    <tr>\n",
              "      <th>1</th>\n",
              "      <td>What is the story of Kohinoor (Koh-i-Noor) Dia...</td>\n",
              "      <td>What would happen if the Indian government sto...</td>\n",
              "      <td>0</td>\n",
              "    </tr>\n",
              "    <tr>\n",
              "      <th>2</th>\n",
              "      <td>How can I increase the speed of my internet co...</td>\n",
              "      <td>How can Internet speed be increased by hacking...</td>\n",
              "      <td>0</td>\n",
              "    </tr>\n",
              "    <tr>\n",
              "      <th>3</th>\n",
              "      <td>Why am I mentally very lonely? How can I solve...</td>\n",
              "      <td>Find the remainder when [math]23^{24}[/math] i...</td>\n",
              "      <td>0</td>\n",
              "    </tr>\n",
              "    <tr>\n",
              "      <th>4</th>\n",
              "      <td>Which one dissolve in water quikly sugar, salt...</td>\n",
              "      <td>Which fish would survive in salt water?</td>\n",
              "      <td>0</td>\n",
              "    </tr>\n",
              "  </tbody>\n",
              "</table>\n",
              "</div>\n",
              "      <button class=\"colab-df-convert\" onclick=\"convertToInteractive('df-907f3281-818f-49b4-9ac7-53f90d5bb0c6')\"\n",
              "              title=\"Convert this dataframe to an interactive table.\"\n",
              "              style=\"display:none;\">\n",
              "        \n",
              "  <svg xmlns=\"http://www.w3.org/2000/svg\" height=\"24px\"viewBox=\"0 0 24 24\"\n",
              "       width=\"24px\">\n",
              "    <path d=\"M0 0h24v24H0V0z\" fill=\"none\"/>\n",
              "    <path d=\"M18.56 5.44l.94 2.06.94-2.06 2.06-.94-2.06-.94-.94-2.06-.94 2.06-2.06.94zm-11 1L8.5 8.5l.94-2.06 2.06-.94-2.06-.94L8.5 2.5l-.94 2.06-2.06.94zm10 10l.94 2.06.94-2.06 2.06-.94-2.06-.94-.94-2.06-.94 2.06-2.06.94z\"/><path d=\"M17.41 7.96l-1.37-1.37c-.4-.4-.92-.59-1.43-.59-.52 0-1.04.2-1.43.59L10.3 9.45l-7.72 7.72c-.78.78-.78 2.05 0 2.83L4 21.41c.39.39.9.59 1.41.59.51 0 1.02-.2 1.41-.59l7.78-7.78 2.81-2.81c.8-.78.8-2.07 0-2.86zM5.41 20L4 18.59l7.72-7.72 1.47 1.35L5.41 20z\"/>\n",
              "  </svg>\n",
              "      </button>\n",
              "      \n",
              "  <style>\n",
              "    .colab-df-container {\n",
              "      display:flex;\n",
              "      flex-wrap:wrap;\n",
              "      gap: 12px;\n",
              "    }\n",
              "\n",
              "    .colab-df-convert {\n",
              "      background-color: #E8F0FE;\n",
              "      border: none;\n",
              "      border-radius: 50%;\n",
              "      cursor: pointer;\n",
              "      display: none;\n",
              "      fill: #1967D2;\n",
              "      height: 32px;\n",
              "      padding: 0 0 0 0;\n",
              "      width: 32px;\n",
              "    }\n",
              "\n",
              "    .colab-df-convert:hover {\n",
              "      background-color: #E2EBFA;\n",
              "      box-shadow: 0px 1px 2px rgba(60, 64, 67, 0.3), 0px 1px 3px 1px rgba(60, 64, 67, 0.15);\n",
              "      fill: #174EA6;\n",
              "    }\n",
              "\n",
              "    [theme=dark] .colab-df-convert {\n",
              "      background-color: #3B4455;\n",
              "      fill: #D2E3FC;\n",
              "    }\n",
              "\n",
              "    [theme=dark] .colab-df-convert:hover {\n",
              "      background-color: #434B5C;\n",
              "      box-shadow: 0px 1px 3px 1px rgba(0, 0, 0, 0.15);\n",
              "      filter: drop-shadow(0px 1px 2px rgba(0, 0, 0, 0.3));\n",
              "      fill: #FFFFFF;\n",
              "    }\n",
              "  </style>\n",
              "\n",
              "      <script>\n",
              "        const buttonEl =\n",
              "          document.querySelector('#df-907f3281-818f-49b4-9ac7-53f90d5bb0c6 button.colab-df-convert');\n",
              "        buttonEl.style.display =\n",
              "          google.colab.kernel.accessAllowed ? 'block' : 'none';\n",
              "\n",
              "        async function convertToInteractive(key) {\n",
              "          const element = document.querySelector('#df-907f3281-818f-49b4-9ac7-53f90d5bb0c6');\n",
              "          const dataTable =\n",
              "            await google.colab.kernel.invokeFunction('convertToInteractive',\n",
              "                                                     [key], {});\n",
              "          if (!dataTable) return;\n",
              "\n",
              "          const docLinkHtml = 'Like what you see? Visit the ' +\n",
              "            '<a target=\"_blank\" href=https://colab.research.google.com/notebooks/data_table.ipynb>data table notebook</a>'\n",
              "            + ' to learn more about interactive tables.';\n",
              "          element.innerHTML = '';\n",
              "          dataTable['output_type'] = 'display_data';\n",
              "          await google.colab.output.renderOutput(dataTable, element);\n",
              "          const docLink = document.createElement('div');\n",
              "          docLink.innerHTML = docLinkHtml;\n",
              "          element.appendChild(docLink);\n",
              "        }\n",
              "      </script>\n",
              "    </div>\n",
              "  </div>\n",
              "  "
            ]
          },
          "metadata": {},
          "execution_count": 13
        }
      ]
    },
    {
      "cell_type": "code",
      "source": [
        "#Palette\n",
        "cols= [\"#89cff0\", \"#fdfd96\"] \n",
        "plt.figure(figsize=(8,8))\n",
        "fg = sns.countplot(x= data[\"is_duplicate\"], palette= cols)\n",
        "fg.set_title(\"Countplot for Questions\")\n",
        "fg.set_xlabel(\"Classes(0:not duplicate,1:duplicate)\", color=\"#58508d\")\n",
        "fg.set_ylabel(\"Number of Data points\")"
      ],
      "metadata": {
        "colab": {
          "base_uri": "https://localhost:8080/",
          "height": 531
        },
        "id": "THTmEuRJWhPZ",
        "outputId": "a9eb113e-16bc-4c31-b042-8e1c70771d1a"
      },
      "execution_count": null,
      "outputs": [
        {
          "output_type": "execute_result",
          "data": {
            "text/plain": [
              "Text(0, 0.5, 'Number of Data points')"
            ]
          },
          "metadata": {},
          "execution_count": 14
        },
        {
          "output_type": "display_data",
          "data": {
            "text/plain": [
              "<Figure size 576x576 with 1 Axes>"
            ],
            "image/png": "[encoded data removed]"
          },
          "metadata": {
            "needs_background": "light"
          }
        }
      ]
    },
    {
      "cell_type": "code",
      "source": [
        "#check duplicate\n",
        "q_dup=data[data.duplicated()]\n",
        "print(q_dup)"
      ],
      "metadata": {
        "colab": {
          "base_uri": "https://localhost:8080/"
        },
        "id": "rMbsxacRlKyN",
        "outputId": "b1e75575-737c-4ab5-a568-283ae4131e0c"
      },
      "execution_count": null,
      "outputs": [
        {
          "output_type": "stream",
          "name": "stdout",
          "text": [
            "Empty DataFrame\n",
            "Columns: [question1, question2, is_duplicate]\n",
            "Index: []\n"
          ]
        }
      ]
    },
    {
      "cell_type": "code",
      "source": [
        "data.is_duplicate.value_counts()"
      ],
      "metadata": {
        "colab": {
          "base_uri": "https://localhost:8080/"
        },
        "id": "z8MnwPUOcA8s",
        "outputId": "aa86d822-86da-4a77-a4b4-3f9212b715fa"
      },
      "execution_count": null,
      "outputs": [
        {
          "output_type": "execute_result",
          "data": {
            "text/plain": [
              "0    255027\n",
              "1    149263\n",
              "Name: is_duplicate, dtype: int64"
            ]
          },
          "metadata": {},
          "execution_count": 16
        }
      ]
    },
    {
      "cell_type": "code",
      "source": [
        "under_org=org.sample(149263,axis=0)"
      ],
      "metadata": {
        "id": "YmyPpOx_cboI"
      },
      "execution_count": null,
      "outputs": []
    },
    {
      "cell_type": "code",
      "source": [
        "under_org.shape"
      ],
      "metadata": {
        "colab": {
          "base_uri": "https://localhost:8080/"
        },
        "id": "CscAsqLRdMGM",
        "outputId": "304067a6-2cf9-42ff-fcc7-e6ac9f8aba09"
      },
      "execution_count": null,
      "outputs": [
        {
          "output_type": "execute_result",
          "data": {
            "text/plain": [
              "(149263, 3)"
            ]
          },
          "metadata": {},
          "execution_count": 18
        }
      ]
    },
    {
      "cell_type": "code",
      "source": [
        "balanced_data=pd.concat([dup,under_org])\n",
        "balanced_data.shape"
      ],
      "metadata": {
        "colab": {
          "base_uri": "https://localhost:8080/"
        },
        "id": "I7s7lyLCdQI7",
        "outputId": "ec2a09f6-ca5d-452a-85c9-83d88b5d54a7"
      },
      "execution_count": null,
      "outputs": [
        {
          "output_type": "execute_result",
          "data": {
            "text/plain": [
              "(298526, 3)"
            ]
          },
          "metadata": {},
          "execution_count": 19
        }
      ]
    },
    {
      "cell_type": "code",
      "source": [
        "balanced_data.is_duplicate.value_counts()"
      ],
      "metadata": {
        "colab": {
          "base_uri": "https://localhost:8080/"
        },
        "id": "LjBN6kuXdmB1",
        "outputId": "c4dc17b1-ee03-42a3-ccc4-083e69f00d35"
      },
      "execution_count": null,
      "outputs": [
        {
          "output_type": "execute_result",
          "data": {
            "text/plain": [
              "1    149263\n",
              "0    149263\n",
              "Name: is_duplicate, dtype: int64"
            ]
          },
          "metadata": {},
          "execution_count": 20
        }
      ]
    },
    {
      "cell_type": "code",
      "source": [
        "balanced_data.head(100)"
      ],
      "metadata": {
        "colab": {
          "base_uri": "https://localhost:8080/",
          "height": 423
        },
        "id": "7AGom05Gf2QN",
        "outputId": "1f734aca-78c4-48cd-9786-0ed4da1e3a18"
      },
      "execution_count": null,
      "outputs": [
        {
          "output_type": "execute_result",
          "data": {
            "text/plain": [
              "                                             question1  \\\n",
              "5    Astrology: I am a Capricorn Sun Cap moon and c...   \n",
              "7                       How can I be a good geologist?   \n",
              "11         How do I read and find my YouTube comments?   \n",
              "12                What can make Physics easy to learn?   \n",
              "13         What was your first sexual experience like?   \n",
              "..                                                 ...   \n",
              "255                             Will Modi win in 2019?   \n",
              "260  What exactly is the \"Common Core Initiative/St...   \n",
              "261     How do I choose a journal to publish my paper?   \n",
              "262     What are your New Year's resolutions for 2017?   \n",
              "267  How many months does it take to gain knowledge...   \n",
              "\n",
              "                                             question2  is_duplicate  \n",
              "5    I'm a triple Capricorn (Sun, Moon and ascendan...             1  \n",
              "7            What should I do to be a great geologist?             1  \n",
              "11              How can I see all my Youtube comments?             1  \n",
              "12             How can you make physics easy to learn?             1  \n",
              "13              What was your first sexual experience?             1  \n",
              "..                                                 ...           ...  \n",
              "255  Can Narendra Modi become Prime Minister of Ind...             1  \n",
              "260  What are the pros and cons of the Common Core ...             1  \n",
              "261                       Where do I publish my paper?             1  \n",
              "262  What is your creative New Year's resolution fo...             1  \n",
              "267  How much time does it take to learn Android ap...             1  \n",
              "\n",
              "[100 rows x 3 columns]"
            ],
            "text/html": [
              "\n",
              "  <div id=\"df-3a0d4696-018b-4ad7-9ab8-e41d59ce8977\">\n",
              "    <div class=\"colab-df-container\">\n",
              "      <div>\n",
              "<style scoped>\n",
              "    .dataframe tbody tr th:only-of-type {\n",
              "        vertical-align: middle;\n",
              "    }\n",
              "\n",
              "    .dataframe tbody tr th {\n",
              "        vertical-align: top;\n",
              "    }\n",
              "\n",
              "    .dataframe thead th {\n",
              "        text-align: right;\n",
              "    }\n",
              "</style>\n",
              "<table border=\"1\" class=\"dataframe\">\n",
              "  <thead>\n",
              "    <tr style=\"text-align: right;\">\n",
              "      <th></th>\n",
              "      <th>question1</th>\n",
              "      <th>question2</th>\n",
              "      <th>is_duplicate</th>\n",
              "    </tr>\n",
              "  </thead>\n",
              "  <tbody>\n",
              "    <tr>\n",
              "      <th>5</th>\n",
              "      <td>Astrology: I am a Capricorn Sun Cap moon and c...</td>\n",
              "      <td>I'm a triple Capricorn (Sun, Moon and ascendan...</td>\n",
              "      <td>1</td>\n",
              "    </tr>\n",
              "    <tr>\n",
              "      <th>7</th>\n",
              "      <td>How can I be a good geologist?</td>\n",
              "      <td>What should I do to be a great geologist?</td>\n",
              "      <td>1</td>\n",
              "    </tr>\n",
              "    <tr>\n",
              "      <th>11</th>\n",
              "      <td>How do I read and find my YouTube comments?</td>\n",
              "      <td>How can I see all my Youtube comments?</td>\n",
              "      <td>1</td>\n",
              "    </tr>\n",
              "    <tr>\n",
              "      <th>12</th>\n",
              "      <td>What can make Physics easy to learn?</td>\n",
              "      <td>How can you make physics easy to learn?</td>\n",
              "      <td>1</td>\n",
              "    </tr>\n",
              "    <tr>\n",
              "      <th>13</th>\n",
              "      <td>What was your first sexual experience like?</td>\n",
              "      <td>What was your first sexual experience?</td>\n",
              "      <td>1</td>\n",
              "    </tr>\n",
              "    <tr>\n",
              "      <th>...</th>\n",
              "      <td>...</td>\n",
              "      <td>...</td>\n",
              "      <td>...</td>\n",
              "    </tr>\n",
              "    <tr>\n",
              "      <th>255</th>\n",
              "      <td>Will Modi win in 2019?</td>\n",
              "      <td>Can Narendra Modi become Prime Minister of Ind...</td>\n",
              "      <td>1</td>\n",
              "    </tr>\n",
              "    <tr>\n",
              "      <th>260</th>\n",
              "      <td>What exactly is the \"Common Core Initiative/St...</td>\n",
              "      <td>What are the pros and cons of the Common Core ...</td>\n",
              "      <td>1</td>\n",
              "    </tr>\n",
              "    <tr>\n",
              "      <th>261</th>\n",
              "      <td>How do I choose a journal to publish my paper?</td>\n",
              "      <td>Where do I publish my paper?</td>\n",
              "      <td>1</td>\n",
              "    </tr>\n",
              "    <tr>\n",
              "      <th>262</th>\n",
              "      <td>What are your New Year's resolutions for 2017?</td>\n",
              "      <td>What is your creative New Year's resolution fo...</td>\n",
              "      <td>1</td>\n",
              "    </tr>\n",
              "    <tr>\n",
              "      <th>267</th>\n",
              "      <td>How many months does it take to gain knowledge...</td>\n",
              "      <td>How much time does it take to learn Android ap...</td>\n",
              "      <td>1</td>\n",
              "    </tr>\n",
              "  </tbody>\n",
              "</table>\n",
              "<p>100 rows × 3 columns</p>\n",
              "</div>\n",
              "      <button class=\"colab-df-convert\" onclick=\"convertToInteractive('df-3a0d4696-018b-4ad7-9ab8-e41d59ce8977')\"\n",
              "              title=\"Convert this dataframe to an interactive table.\"\n",
              "              style=\"display:none;\">\n",
              "        \n",
              "  <svg xmlns=\"http://www.w3.org/2000/svg\" height=\"24px\"viewBox=\"0 0 24 24\"\n",
              "       width=\"24px\">\n",
              "    <path d=\"M0 0h24v24H0V0z\" fill=\"none\"/>\n",
              "    <path d=\"M18.56 5.44l.94 2.06.94-2.06 2.06-.94-2.06-.94-.94-2.06-.94 2.06-2.06.94zm-11 1L8.5 8.5l.94-2.06 2.06-.94-2.06-.94L8.5 2.5l-.94 2.06-2.06.94zm10 10l.94 2.06.94-2.06 2.06-.94-2.06-.94-.94-2.06-.94 2.06-2.06.94z\"/><path d=\"M17.41 7.96l-1.37-1.37c-.4-.4-.92-.59-1.43-.59-.52 0-1.04.2-1.43.59L10.3 9.45l-7.72 7.72c-.78.78-.78 2.05 0 2.83L4 21.41c.39.39.9.59 1.41.59.51 0 1.02-.2 1.41-.59l7.78-7.78 2.81-2.81c.8-.78.8-2.07 0-2.86zM5.41 20L4 18.59l7.72-7.72 1.47 1.35L5.41 20z\"/>\n",
              "  </svg>\n",
              "      </button>\n",
              "      \n",
              "  <style>\n",
              "    .colab-df-container {\n",
              "      display:flex;\n",
              "      flex-wrap:wrap;\n",
              "      gap: 12px;\n",
              "    }\n",
              "\n",
              "    .colab-df-convert {\n",
              "      background-color: #E8F0FE;\n",
              "      border: none;\n",
              "      border-radius: 50%;\n",
              "      cursor: pointer;\n",
              "      display: none;\n",
              "      fill: #1967D2;\n",
              "      height: 32px;\n",
              "      padding: 0 0 0 0;\n",
              "      width: 32px;\n",
              "    }\n",
              "\n",
              "    .colab-df-convert:hover {\n",
              "      background-color: #E2EBFA;\n",
              "      box-shadow: 0px 1px 2px rgba(60, 64, 67, 0.3), 0px 1px 3px 1px rgba(60, 64, 67, 0.15);\n",
              "      fill: #174EA6;\n",
              "    }\n",
              "\n",
              "    [theme=dark] .colab-df-convert {\n",
              "      background-color: #3B4455;\n",
              "      fill: #D2E3FC;\n",
              "    }\n",
              "\n",
              "    [theme=dark] .colab-df-convert:hover {\n",
              "      background-color: #434B5C;\n",
              "      box-shadow: 0px 1px 3px 1px rgba(0, 0, 0, 0.15);\n",
              "      filter: drop-shadow(0px 1px 2px rgba(0, 0, 0, 0.3));\n",
              "      fill: #FFFFFF;\n",
              "    }\n",
              "  </style>\n",
              "\n",
              "      <script>\n",
              "        const buttonEl =\n",
              "          document.querySelector('#df-3a0d4696-018b-4ad7-9ab8-e41d59ce8977 button.colab-df-convert');\n",
              "        buttonEl.style.display =\n",
              "          google.colab.kernel.accessAllowed ? 'block' : 'none';\n",
              "\n",
              "        async function convertToInteractive(key) {\n",
              "          const element = document.querySelector('#df-3a0d4696-018b-4ad7-9ab8-e41d59ce8977');\n",
              "          const dataTable =\n",
              "            await google.colab.kernel.invokeFunction('convertToInteractive',\n",
              "                                                     [key], {});\n",
              "          if (!dataTable) return;\n",
              "\n",
              "          const docLinkHtml = 'Like what you see? Visit the ' +\n",
              "            '<a target=\"_blank\" href=https://colab.research.google.com/notebooks/data_table.ipynb>data table notebook</a>'\n",
              "            + ' to learn more about interactive tables.';\n",
              "          element.innerHTML = '';\n",
              "          dataTable['output_type'] = 'display_data';\n",
              "          await google.colab.output.renderOutput(dataTable, element);\n",
              "          const docLink = document.createElement('div');\n",
              "          docLink.innerHTML = docLinkHtml;\n",
              "          element.appendChild(docLink);\n",
              "        }\n",
              "      </script>\n",
              "    </div>\n",
              "  </div>\n",
              "  "
            ]
          },
          "metadata": {},
          "execution_count": 21
        }
      ]
    },
    {
      "cell_type": "code",
      "source": [
        "balanced_data.tail()"
      ],
      "metadata": {
        "colab": {
          "base_uri": "https://localhost:8080/",
          "height": 206
        },
        "id": "U6-VbvqSgDRs",
        "outputId": "917f19da-64e9-4e3f-f394-d5f419978806"
      },
      "execution_count": null,
      "outputs": [
        {
          "output_type": "execute_result",
          "data": {
            "text/plain": [
              "                                                question1  \\\n",
              "227340  Why does Donald Trump call Hillary âcrookedâ?   \n",
              "47379   How can one get a duplicate Income Tax Return ...   \n",
              "163969                           How does whatsapp works?   \n",
              "89817   What is the equivalence of moroccan engineer d...   \n",
              "268196  What does it really mean to tell someone you l...   \n",
              "\n",
              "                                                question2  is_duplicate  \n",
              "227340      Why do people say Hillary Clinton is a crook?             0  \n",
              "47379   After filing Income Tax returns, who will sign...             0  \n",
              "163969                 How does WhatsApp last seen works?             0  \n",
              "89817   What is the equivalence of a Moroccan engineer...             0  \n",
              "268196  When did you find out what it really means to ...             0  "
            ],
            "text/html": [
              "\n",
              "  <div id=\"df-35b10cb9-c9bb-4cbf-9735-0ccffc53c65e\">\n",
              "    <div class=\"colab-df-container\">\n",
              "      <div>\n",
              "<style scoped>\n",
              "    .dataframe tbody tr th:only-of-type {\n",
              "        vertical-align: middle;\n",
              "    }\n",
              "\n",
              "    .dataframe tbody tr th {\n",
              "        vertical-align: top;\n",
              "    }\n",
              "\n",
              "    .dataframe thead th {\n",
              "        text-align: right;\n",
              "    }\n",
              "</style>\n",
              "<table border=\"1\" class=\"dataframe\">\n",
              "  <thead>\n",
              "    <tr style=\"text-align: right;\">\n",
              "      <th></th>\n",
              "      <th>question1</th>\n",
              "      <th>question2</th>\n",
              "      <th>is_duplicate</th>\n",
              "    </tr>\n",
              "  </thead>\n",
              "  <tbody>\n",
              "    <tr>\n",
              "      <th>227340</th>\n",
              "      <td>Why does Donald Trump call Hillary âcrookedâ?</td>\n",
              "      <td>Why do people say Hillary Clinton is a crook?</td>\n",
              "      <td>0</td>\n",
              "    </tr>\n",
              "    <tr>\n",
              "      <th>47379</th>\n",
              "      <td>How can one get a duplicate Income Tax Return ...</td>\n",
              "      <td>After filing Income Tax returns, who will sign...</td>\n",
              "      <td>0</td>\n",
              "    </tr>\n",
              "    <tr>\n",
              "      <th>163969</th>\n",
              "      <td>How does whatsapp works?</td>\n",
              "      <td>How does WhatsApp last seen works?</td>\n",
              "      <td>0</td>\n",
              "    </tr>\n",
              "    <tr>\n",
              "      <th>89817</th>\n",
              "      <td>What is the equivalence of moroccan engineer d...</td>\n",
              "      <td>What is the equivalence of a Moroccan engineer...</td>\n",
              "      <td>0</td>\n",
              "    </tr>\n",
              "    <tr>\n",
              "      <th>268196</th>\n",
              "      <td>What does it really mean to tell someone you l...</td>\n",
              "      <td>When did you find out what it really means to ...</td>\n",
              "      <td>0</td>\n",
              "    </tr>\n",
              "  </tbody>\n",
              "</table>\n",
              "</div>\n",
              "      <button class=\"colab-df-convert\" onclick=\"convertToInteractive('df-35b10cb9-c9bb-4cbf-9735-0ccffc53c65e')\"\n",
              "              title=\"Convert this dataframe to an interactive table.\"\n",
              "              style=\"display:none;\">\n",
              "        \n",
              "  <svg xmlns=\"http://www.w3.org/2000/svg\" height=\"24px\"viewBox=\"0 0 24 24\"\n",
              "       width=\"24px\">\n",
              "    <path d=\"M0 0h24v24H0V0z\" fill=\"none\"/>\n",
              "    <path d=\"M18.56 5.44l.94 2.06.94-2.06 2.06-.94-2.06-.94-.94-2.06-.94 2.06-2.06.94zm-11 1L8.5 8.5l.94-2.06 2.06-.94-2.06-.94L8.5 2.5l-.94 2.06-2.06.94zm10 10l.94 2.06.94-2.06 2.06-.94-2.06-.94-.94-2.06-.94 2.06-2.06.94z\"/><path d=\"M17.41 7.96l-1.37-1.37c-.4-.4-.92-.59-1.43-.59-.52 0-1.04.2-1.43.59L10.3 9.45l-7.72 7.72c-.78.78-.78 2.05 0 2.83L4 21.41c.39.39.9.59 1.41.59.51 0 1.02-.2 1.41-.59l7.78-7.78 2.81-2.81c.8-.78.8-2.07 0-2.86zM5.41 20L4 18.59l7.72-7.72 1.47 1.35L5.41 20z\"/>\n",
              "  </svg>\n",
              "      </button>\n",
              "      \n",
              "  <style>\n",
              "    .colab-df-container {\n",
              "      display:flex;\n",
              "      flex-wrap:wrap;\n",
              "      gap: 12px;\n",
              "    }\n",
              "\n",
              "    .colab-df-convert {\n",
              "      background-color: #E8F0FE;\n",
              "      border: none;\n",
              "      border-radius: 50%;\n",
              "      cursor: pointer;\n",
              "      display: none;\n",
              "      fill: #1967D2;\n",
              "      height: 32px;\n",
              "      padding: 0 0 0 0;\n",
              "      width: 32px;\n",
              "    }\n",
              "\n",
              "    .colab-df-convert:hover {\n",
              "      background-color: #E2EBFA;\n",
              "      box-shadow: 0px 1px 2px rgba(60, 64, 67, 0.3), 0px 1px 3px 1px rgba(60, 64, 67, 0.15);\n",
              "      fill: #174EA6;\n",
              "    }\n",
              "\n",
              "    [theme=dark] .colab-df-convert {\n",
              "      background-color: #3B4455;\n",
              "      fill: #D2E3FC;\n",
              "    }\n",
              "\n",
              "    [theme=dark] .colab-df-convert:hover {\n",
              "      background-color: #434B5C;\n",
              "      box-shadow: 0px 1px 3px 1px rgba(0, 0, 0, 0.15);\n",
              "      filter: drop-shadow(0px 1px 2px rgba(0, 0, 0, 0.3));\n",
              "      fill: #FFFFFF;\n",
              "    }\n",
              "  </style>\n",
              "\n",
              "      <script>\n",
              "        const buttonEl =\n",
              "          document.querySelector('#df-35b10cb9-c9bb-4cbf-9735-0ccffc53c65e button.colab-df-convert');\n",
              "        buttonEl.style.display =\n",
              "          google.colab.kernel.accessAllowed ? 'block' : 'none';\n",
              "\n",
              "        async function convertToInteractive(key) {\n",
              "          const element = document.querySelector('#df-35b10cb9-c9bb-4cbf-9735-0ccffc53c65e');\n",
              "          const dataTable =\n",
              "            await google.colab.kernel.invokeFunction('convertToInteractive',\n",
              "                                                     [key], {});\n",
              "          if (!dataTable) return;\n",
              "\n",
              "          const docLinkHtml = 'Like what you see? Visit the ' +\n",
              "            '<a target=\"_blank\" href=https://colab.research.google.com/notebooks/data_table.ipynb>data table notebook</a>'\n",
              "            + ' to learn more about interactive tables.';\n",
              "          element.innerHTML = '';\n",
              "          dataTable['output_type'] = 'display_data';\n",
              "          await google.colab.output.renderOutput(dataTable, element);\n",
              "          const docLink = document.createElement('div');\n",
              "          docLink.innerHTML = docLinkHtml;\n",
              "          element.appendChild(docLink);\n",
              "        }\n",
              "      </script>\n",
              "    </div>\n",
              "  </div>\n",
              "  "
            ]
          },
          "metadata": {},
          "execution_count": 22
        }
      ]
    },
    {
      "cell_type": "code",
      "source": [
        "\n",
        "# saving the dataframe\n",
        "balanced_data.to_csv('balanced_data.csv',index=False)"
      ],
      "metadata": {
        "id": "OAIGEBcYD0Vq"
      },
      "execution_count": null,
      "outputs": []
    },
    {
      "cell_type": "code",
      "source": [
        "balanced_data = pd.read_csv(\"balanced_data.csv\",encoding='latin-1')"
      ],
      "metadata": {
        "id": "FnUfPNrsQjDG"
      },
      "execution_count": 5,
      "outputs": []
    },
    {
      "cell_type": "code",
      "source": [
        "balanced_data.head()"
      ],
      "metadata": {
        "colab": {
          "base_uri": "https://localhost:8080/",
          "height": 206
        },
        "id": "r-A3-4OvQpY0",
        "outputId": "13f4f075-78cc-41ff-905f-1579b34320c3"
      },
      "execution_count": null,
      "outputs": [
        {
          "output_type": "execute_result",
          "data": {
            "text/plain": [
              "                                           question1  \\\n",
              "0  Astrology: I am a Capricorn Sun Cap moon and c...   \n",
              "1                     How can I be a good geologist?   \n",
              "2        How do I read and find my YouTube comments?   \n",
              "3               What can make Physics easy to learn?   \n",
              "4        What was your first sexual experience like?   \n",
              "\n",
              "                                           question2  is_duplicate  \n",
              "0  I'm a triple Capricorn (Sun, Moon and ascendan...             1  \n",
              "1          What should I do to be a great geologist?             1  \n",
              "2             How can I see all my Youtube comments?             1  \n",
              "3            How can you make physics easy to learn?             1  \n",
              "4             What was your first sexual experience?             1  "
            ],
            "text/html": [
              "\n",
              "  <div id=\"df-4deaf761-832b-40e9-9b40-6e5f12a6f1d5\">\n",
              "    <div class=\"colab-df-container\">\n",
              "      <div>\n",
              "<style scoped>\n",
              "    .dataframe tbody tr th:only-of-type {\n",
              "        vertical-align: middle;\n",
              "    }\n",
              "\n",
              "    .dataframe tbody tr th {\n",
              "        vertical-align: top;\n",
              "    }\n",
              "\n",
              "    .dataframe thead th {\n",
              "        text-align: right;\n",
              "    }\n",
              "</style>\n",
              "<table border=\"1\" class=\"dataframe\">\n",
              "  <thead>\n",
              "    <tr style=\"text-align: right;\">\n",
              "      <th></th>\n",
              "      <th>question1</th>\n",
              "      <th>question2</th>\n",
              "      <th>is_duplicate</th>\n",
              "    </tr>\n",
              "  </thead>\n",
              "  <tbody>\n",
              "    <tr>\n",
              "      <th>0</th>\n",
              "      <td>Astrology: I am a Capricorn Sun Cap moon and c...</td>\n",
              "      <td>I'm a triple Capricorn (Sun, Moon and ascendan...</td>\n",
              "      <td>1</td>\n",
              "    </tr>\n",
              "    <tr>\n",
              "      <th>1</th>\n",
              "      <td>How can I be a good geologist?</td>\n",
              "      <td>What should I do to be a great geologist?</td>\n",
              "      <td>1</td>\n",
              "    </tr>\n",
              "    <tr>\n",
              "      <th>2</th>\n",
              "      <td>How do I read and find my YouTube comments?</td>\n",
              "      <td>How can I see all my Youtube comments?</td>\n",
              "      <td>1</td>\n",
              "    </tr>\n",
              "    <tr>\n",
              "      <th>3</th>\n",
              "      <td>What can make Physics easy to learn?</td>\n",
              "      <td>How can you make physics easy to learn?</td>\n",
              "      <td>1</td>\n",
              "    </tr>\n",
              "    <tr>\n",
              "      <th>4</th>\n",
              "      <td>What was your first sexual experience like?</td>\n",
              "      <td>What was your first sexual experience?</td>\n",
              "      <td>1</td>\n",
              "    </tr>\n",
              "  </tbody>\n",
              "</table>\n",
              "</div>\n",
              "      <button class=\"colab-df-convert\" onclick=\"convertToInteractive('df-4deaf761-832b-40e9-9b40-6e5f12a6f1d5')\"\n",
              "              title=\"Convert this dataframe to an interactive table.\"\n",
              "              style=\"display:none;\">\n",
              "        \n",
              "  <svg xmlns=\"http://www.w3.org/2000/svg\" height=\"24px\"viewBox=\"0 0 24 24\"\n",
              "       width=\"24px\">\n",
              "    <path d=\"M0 0h24v24H0V0z\" fill=\"none\"/>\n",
              "    <path d=\"M18.56 5.44l.94 2.06.94-2.06 2.06-.94-2.06-.94-.94-2.06-.94 2.06-2.06.94zm-11 1L8.5 8.5l.94-2.06 2.06-.94-2.06-.94L8.5 2.5l-.94 2.06-2.06.94zm10 10l.94 2.06.94-2.06 2.06-.94-2.06-.94-.94-2.06-.94 2.06-2.06.94z\"/><path d=\"M17.41 7.96l-1.37-1.37c-.4-.4-.92-.59-1.43-.59-.52 0-1.04.2-1.43.59L10.3 9.45l-7.72 7.72c-.78.78-.78 2.05 0 2.83L4 21.41c.39.39.9.59 1.41.59.51 0 1.02-.2 1.41-.59l7.78-7.78 2.81-2.81c.8-.78.8-2.07 0-2.86zM5.41 20L4 18.59l7.72-7.72 1.47 1.35L5.41 20z\"/>\n",
              "  </svg>\n",
              "      </button>\n",
              "      \n",
              "  <style>\n",
              "    .colab-df-container {\n",
              "      display:flex;\n",
              "      flex-wrap:wrap;\n",
              "      gap: 12px;\n",
              "    }\n",
              "\n",
              "    .colab-df-convert {\n",
              "      background-color: #E8F0FE;\n",
              "      border: none;\n",
              "      border-radius: 50%;\n",
              "      cursor: pointer;\n",
              "      display: none;\n",
              "      fill: #1967D2;\n",
              "      height: 32px;\n",
              "      padding: 0 0 0 0;\n",
              "      width: 32px;\n",
              "    }\n",
              "\n",
              "    .colab-df-convert:hover {\n",
              "      background-color: #E2EBFA;\n",
              "      box-shadow: 0px 1px 2px rgba(60, 64, 67, 0.3), 0px 1px 3px 1px rgba(60, 64, 67, 0.15);\n",
              "      fill: #174EA6;\n",
              "    }\n",
              "\n",
              "    [theme=dark] .colab-df-convert {\n",
              "      background-color: #3B4455;\n",
              "      fill: #D2E3FC;\n",
              "    }\n",
              "\n",
              "    [theme=dark] .colab-df-convert:hover {\n",
              "      background-color: #434B5C;\n",
              "      box-shadow: 0px 1px 3px 1px rgba(0, 0, 0, 0.15);\n",
              "      filter: drop-shadow(0px 1px 2px rgba(0, 0, 0, 0.3));\n",
              "      fill: #FFFFFF;\n",
              "    }\n",
              "  </style>\n",
              "\n",
              "      <script>\n",
              "        const buttonEl =\n",
              "          document.querySelector('#df-4deaf761-832b-40e9-9b40-6e5f12a6f1d5 button.colab-df-convert');\n",
              "        buttonEl.style.display =\n",
              "          google.colab.kernel.accessAllowed ? 'block' : 'none';\n",
              "\n",
              "        async function convertToInteractive(key) {\n",
              "          const element = document.querySelector('#df-4deaf761-832b-40e9-9b40-6e5f12a6f1d5');\n",
              "          const dataTable =\n",
              "            await google.colab.kernel.invokeFunction('convertToInteractive',\n",
              "                                                     [key], {});\n",
              "          if (!dataTable) return;\n",
              "\n",
              "          const docLinkHtml = 'Like what you see? Visit the ' +\n",
              "            '<a target=\"_blank\" href=https://colab.research.google.com/notebooks/data_table.ipynb>data table notebook</a>'\n",
              "            + ' to learn more about interactive tables.';\n",
              "          element.innerHTML = '';\n",
              "          dataTable['output_type'] = 'display_data';\n",
              "          await google.colab.output.renderOutput(dataTable, element);\n",
              "          const docLink = document.createElement('div');\n",
              "          docLink.innerHTML = docLinkHtml;\n",
              "          element.appendChild(docLink);\n",
              "        }\n",
              "      </script>\n",
              "    </div>\n",
              "  </div>\n",
              "  "
            ]
          },
          "metadata": {},
          "execution_count": 25
        }
      ]
    },
    {
      "cell_type": "code",
      "source": [
        "#Palette\n",
        "cols= [\"#89cff0\", \"#fdfd96\"] \n",
        "plt.figure(figsize=(8,8))\n",
        "fg = sns.countplot(x= balanced_data[\"is_duplicate\"], palette= cols)\n",
        "fg.set_title(\"Countplot for Questions\")\n",
        "fg.set_xlabel(\"Classes(0:not duplicate,1:duplicate)\", color=\"#58508d\")\n",
        "fg.set_ylabel(\"Number of Data points\")"
      ],
      "metadata": {
        "colab": {
          "base_uri": "https://localhost:8080/",
          "height": 531
        },
        "id": "graoPFeGgLGH",
        "outputId": "de4a4df0-b990-4fda-8a3a-c4cd827e121e"
      },
      "execution_count": null,
      "outputs": [
        {
          "output_type": "execute_result",
          "data": {
            "text/plain": [
              "Text(0, 0.5, 'Number of Data points')"
            ]
          },
          "metadata": {},
          "execution_count": 26
        },
        {
          "output_type": "display_data",
          "data": {
            "text/plain": [
              "<Figure size 576x576 with 1 Axes>"
            ],
            "image/png": "[encoded data removed]"
          },
          "metadata": {
            "needs_background": "light"
          }
        }
      ]
    },
    {
      "cell_type": "code",
      "execution_count": 7,
      "metadata": {
        "id": "Y8PuG8Ugdguu"
      },
      "outputs": [],
      "source": [
        "# split dataset\n",
        "X = balanced_data.iloc[:, 0:2]\n",
        "y = balanced_data.iloc[:, 2]"
      ]
    },
    {
      "cell_type": "code",
      "source": [
        "X.head()"
      ],
      "metadata": {
        "colab": {
          "base_uri": "https://localhost:8080/",
          "height": 206
        },
        "id": "Mf0e7sNHgesf",
        "outputId": "4c396f1a-7fd0-4c81-df9b-62366e0dfd6f"
      },
      "execution_count": null,
      "outputs": [
        {
          "output_type": "execute_result",
          "data": {
            "text/plain": [
              "                                           question1  \\\n",
              "0  Astrology: I am a Capricorn Sun Cap moon and c...   \n",
              "1                     How can I be a good geologist?   \n",
              "2        How do I read and find my YouTube comments?   \n",
              "3               What can make Physics easy to learn?   \n",
              "4        What was your first sexual experience like?   \n",
              "\n",
              "                                           question2  \n",
              "0  I'm a triple Capricorn (Sun, Moon and ascendan...  \n",
              "1          What should I do to be a great geologist?  \n",
              "2             How can I see all my Youtube comments?  \n",
              "3            How can you make physics easy to learn?  \n",
              "4             What was your first sexual experience?  "
            ],
            "text/html": [
              "\n",
              "  <div id=\"df-c6d33af7-1c88-490c-893b-92ee9db95d69\">\n",
              "    <div class=\"colab-df-container\">\n",
              "      <div>\n",
              "<style scoped>\n",
              "    .dataframe tbody tr th:only-of-type {\n",
              "        vertical-align: middle;\n",
              "    }\n",
              "\n",
              "    .dataframe tbody tr th {\n",
              "        vertical-align: top;\n",
              "    }\n",
              "\n",
              "    .dataframe thead th {\n",
              "        text-align: right;\n",
              "    }\n",
              "</style>\n",
              "<table border=\"1\" class=\"dataframe\">\n",
              "  <thead>\n",
              "    <tr style=\"text-align: right;\">\n",
              "      <th></th>\n",
              "      <th>question1</th>\n",
              "      <th>question2</th>\n",
              "    </tr>\n",
              "  </thead>\n",
              "  <tbody>\n",
              "    <tr>\n",
              "      <th>0</th>\n",
              "      <td>Astrology: I am a Capricorn Sun Cap moon and c...</td>\n",
              "      <td>I'm a triple Capricorn (Sun, Moon and ascendan...</td>\n",
              "    </tr>\n",
              "    <tr>\n",
              "      <th>1</th>\n",
              "      <td>How can I be a good geologist?</td>\n",
              "      <td>What should I do to be a great geologist?</td>\n",
              "    </tr>\n",
              "    <tr>\n",
              "      <th>2</th>\n",
              "      <td>How do I read and find my YouTube comments?</td>\n",
              "      <td>How can I see all my Youtube comments?</td>\n",
              "    </tr>\n",
              "    <tr>\n",
              "      <th>3</th>\n",
              "      <td>What can make Physics easy to learn?</td>\n",
              "      <td>How can you make physics easy to learn?</td>\n",
              "    </tr>\n",
              "    <tr>\n",
              "      <th>4</th>\n",
              "      <td>What was your first sexual experience like?</td>\n",
              "      <td>What was your first sexual experience?</td>\n",
              "    </tr>\n",
              "  </tbody>\n",
              "</table>\n",
              "</div>\n",
              "      <button class=\"colab-df-convert\" onclick=\"convertToInteractive('df-c6d33af7-1c88-490c-893b-92ee9db95d69')\"\n",
              "              title=\"Convert this dataframe to an interactive table.\"\n",
              "              style=\"display:none;\">\n",
              "        \n",
              "  <svg xmlns=\"http://www.w3.org/2000/svg\" height=\"24px\"viewBox=\"0 0 24 24\"\n",
              "       width=\"24px\">\n",
              "    <path d=\"M0 0h24v24H0V0z\" fill=\"none\"/>\n",
              "    <path d=\"M18.56 5.44l.94 2.06.94-2.06 2.06-.94-2.06-.94-.94-2.06-.94 2.06-2.06.94zm-11 1L8.5 8.5l.94-2.06 2.06-.94-2.06-.94L8.5 2.5l-.94 2.06-2.06.94zm10 10l.94 2.06.94-2.06 2.06-.94-2.06-.94-.94-2.06-.94 2.06-2.06.94z\"/><path d=\"M17.41 7.96l-1.37-1.37c-.4-.4-.92-.59-1.43-.59-.52 0-1.04.2-1.43.59L10.3 9.45l-7.72 7.72c-.78.78-.78 2.05 0 2.83L4 21.41c.39.39.9.59 1.41.59.51 0 1.02-.2 1.41-.59l7.78-7.78 2.81-2.81c.8-.78.8-2.07 0-2.86zM5.41 20L4 18.59l7.72-7.72 1.47 1.35L5.41 20z\"/>\n",
              "  </svg>\n",
              "      </button>\n",
              "      \n",
              "  <style>\n",
              "    .colab-df-container {\n",
              "      display:flex;\n",
              "      flex-wrap:wrap;\n",
              "      gap: 12px;\n",
              "    }\n",
              "\n",
              "    .colab-df-convert {\n",
              "      background-color: #E8F0FE;\n",
              "      border: none;\n",
              "      border-radius: 50%;\n",
              "      cursor: pointer;\n",
              "      display: none;\n",
              "      fill: #1967D2;\n",
              "      height: 32px;\n",
              "      padding: 0 0 0 0;\n",
              "      width: 32px;\n",
              "    }\n",
              "\n",
              "    .colab-df-convert:hover {\n",
              "      background-color: #E2EBFA;\n",
              "      box-shadow: 0px 1px 2px rgba(60, 64, 67, 0.3), 0px 1px 3px 1px rgba(60, 64, 67, 0.15);\n",
              "      fill: #174EA6;\n",
              "    }\n",
              "\n",
              "    [theme=dark] .colab-df-convert {\n",
              "      background-color: #3B4455;\n",
              "      fill: #D2E3FC;\n",
              "    }\n",
              "\n",
              "    [theme=dark] .colab-df-convert:hover {\n",
              "      background-color: #434B5C;\n",
              "      box-shadow: 0px 1px 3px 1px rgba(0, 0, 0, 0.15);\n",
              "      filter: drop-shadow(0px 1px 2px rgba(0, 0, 0, 0.3));\n",
              "      fill: #FFFFFF;\n",
              "    }\n",
              "  </style>\n",
              "\n",
              "      <script>\n",
              "        const buttonEl =\n",
              "          document.querySelector('#df-c6d33af7-1c88-490c-893b-92ee9db95d69 button.colab-df-convert');\n",
              "        buttonEl.style.display =\n",
              "          google.colab.kernel.accessAllowed ? 'block' : 'none';\n",
              "\n",
              "        async function convertToInteractive(key) {\n",
              "          const element = document.querySelector('#df-c6d33af7-1c88-490c-893b-92ee9db95d69');\n",
              "          const dataTable =\n",
              "            await google.colab.kernel.invokeFunction('convertToInteractive',\n",
              "                                                     [key], {});\n",
              "          if (!dataTable) return;\n",
              "\n",
              "          const docLinkHtml = 'Like what you see? Visit the ' +\n",
              "            '<a target=\"_blank\" href=https://colab.research.google.com/notebooks/data_table.ipynb>data table notebook</a>'\n",
              "            + ' to learn more about interactive tables.';\n",
              "          element.innerHTML = '';\n",
              "          dataTable['output_type'] = 'display_data';\n",
              "          await google.colab.output.renderOutput(dataTable, element);\n",
              "          const docLink = document.createElement('div');\n",
              "          docLink.innerHTML = docLinkHtml;\n",
              "          element.appendChild(docLink);\n",
              "        }\n",
              "      </script>\n",
              "    </div>\n",
              "  </div>\n",
              "  "
            ]
          },
          "metadata": {},
          "execution_count": 28
        }
      ]
    },
    {
      "cell_type": "code",
      "source": [
        "from sklearn.model_selection import train_test_split\n",
        "# Splitting the testing and training sets\n",
        "X_train, X_test, y_train, y_test = train_test_split(X,y, test_size=0.2, random_state=42)"
      ],
      "metadata": {
        "id": "9QqI7vBUZfca"
      },
      "execution_count": 8,
      "outputs": []
    },
    {
      "cell_type": "code",
      "execution_count": null,
      "metadata": {
        "colab": {
          "base_uri": "https://localhost:8080/"
        },
        "id": "w1_TES1Qcxd9",
        "outputId": "a899116e-709f-49d8-aa75-924a6ed7c21b"
      },
      "outputs": [
        {
          "output_type": "stream",
          "name": "stderr",
          "text": [
            "[nltk_data] Downloading package stopwords to /root/nltk_data...\n",
            "[nltk_data]   Unzipping corpora/stopwords.zip.\n",
            "[nltk_data] Downloading package wordnet to /root/nltk_data...\n",
            "[nltk_data] Downloading package omw-1.4 to /root/nltk_data...\n",
            "[nltk_data] Downloading package punkt to /root/nltk_data...\n",
            "[nltk_data]   Unzipping tokenizers/punkt.zip.\n"
          ]
        }
      ],
      "source": [
        "# libraries for performing NLP \n",
        "\n",
        "import nltk\n",
        "import re\n",
        "nltk.download('stopwords')\n",
        "nltk.download('wordnet')\n",
        "nltk.download('omw-1.4')\n",
        "nltk.download('punkt')\n",
        "from nltk.tokenize import word_tokenize\n",
        "from nltk.corpus import stopwords\n",
        "from nltk.stem import WordNetLemmatizer\n",
        "\n",
        "# import spacy\n",
        "# nlp = spacy.load(\"en_core_web_sm\")"
      ]
    },
    {
      "cell_type": "code",
      "execution_count": null,
      "metadata": {
        "id": "P0M0Bl7icnEF"
      },
      "outputs": [],
      "source": [
        "# Cleaning the messages\n",
        "def Cleaning(text):\n",
        "  corpus = []\n",
        "  wnl = WordNetLemmatizer()\n",
        "\n",
        "  for question in list(text):\n",
        "\n",
        "   # Cleaning special character from the questions\n",
        "    quest = re.sub(pattern='[^a-zA-Z]', repl=' ', string=question)\n",
        "\n",
        "   # Converting the entire question into lower case\n",
        "    quest = quest.lower()\n",
        "\n",
        "    # to remove numeric digits from string\n",
        "    quest = ''.join([i for i in quest if not i.isdigit()])\n",
        "\n",
        "    # Tokenizing the question by words\n",
        "    words = word_tokenize(quest)\n",
        "    \n",
        "    # Removing the stop words\n",
        "    filtered_words = [word for word in words if word not in set(stopwords.words('english'))]\n",
        "\n",
        "    # Lemmatizing the words\n",
        "    lemmatized_words = [wnl.lemmatize(word,'v') for word in filtered_words]\n",
        "\n",
        "    # Joining the lemmatized words\n",
        "    quest = ' '.join(lemmatized_words)\n",
        "\n",
        "   # Building a corpus of question\n",
        "    corpus.append(quest)\n",
        "  return corpus\n"
      ]
    },
    {
      "cell_type": "code",
      "source": [
        "xtestq1=Cleaning(X_test['question1'])\n",
        "with open('xtestq1.pickle', 'wb') as f:\n",
        "    pickle.dump(xtestq1, f)\n",
        "len(xtestq1)\n"
      ],
      "metadata": {
        "id": "12u8KRBEBIS-",
        "colab": {
          "base_uri": "https://localhost:8080/"
        },
        "outputId": "f59c93ba-549a-402f-8616-3eaf94e243e1"
      },
      "execution_count": null,
      "outputs": [
        {
          "output_type": "execute_result",
          "data": {
            "text/plain": [
              "59706"
            ]
          },
          "metadata": {},
          "execution_count": 10
        }
      ]
    },
    {
      "cell_type": "code",
      "source": [
        "xtestq2=Cleaning(X_test['question2'])\n",
        "with open('xtestq2.pickle', 'wb') as f:\n",
        "    pickle.dump(xtestq2, f)\n",
        "len(xtestq2)\n"
      ],
      "metadata": {
        "id": "DIQ6lpRPghNl",
        "colab": {
          "base_uri": "https://localhost:8080/"
        },
        "outputId": "bb0e7f4b-7b38-4275-b2c8-2f9ebe052e73"
      },
      "execution_count": null,
      "outputs": [
        {
          "output_type": "execute_result",
          "data": {
            "text/plain": [
              "59706"
            ]
          },
          "metadata": {},
          "execution_count": 11
        }
      ]
    },
    {
      "cell_type": "code",
      "source": [
        "xtrainq1=Cleaning(X_train['question1'])\n",
        "with open('xtrainq1.pickle', 'wb') as f:\n",
        "    pickle.dump(xtrainq1, f)\n",
        "len(xtrainq1)\n"
      ],
      "metadata": {
        "colab": {
          "base_uri": "https://localhost:8080/"
        },
        "id": "UDy_dJQuJoTi",
        "outputId": "df441b71-b3df-4b71-a104-b00699b17be4"
      },
      "execution_count": null,
      "outputs": [
        {
          "output_type": "execute_result",
          "data": {
            "text/plain": [
              "238820"
            ]
          },
          "metadata": {},
          "execution_count": 12
        }
      ]
    },
    {
      "cell_type": "code",
      "source": [
        "xtrainq2=Cleaning(X_train['question2'])\n",
        "with open('xtrainq2.pickle', 'wb') as f:\n",
        "    pickle.dump(xtrainq2, f)\n",
        "len(xtrainq2)\n"
      ],
      "metadata": {
        "colab": {
          "base_uri": "https://localhost:8080/"
        },
        "id": "-K3fpAtoKrmg",
        "outputId": "6f6ac9c5-6527-4f39-d686-639bebdb0b2a"
      },
      "execution_count": null,
      "outputs": [
        {
          "output_type": "execute_result",
          "data": {
            "text/plain": [
              "238820"
            ]
          },
          "metadata": {},
          "execution_count": 13
        }
      ]
    },
    {
      "cell_type": "code",
      "source": [
        "merged_questions = xtrainq1 + xtrainq2\n",
        "with open('merged_q.pickle', 'wb') as f:\n",
        "    pickle.dump(merged_questions, f)"
      ],
      "metadata": {
        "id": "JwVyb0Qw8RW8"
      },
      "execution_count": null,
      "outputs": []
    },
    {
      "cell_type": "code",
      "source": [
        "# Loading the xtestq1 from the pickle file\n",
        "with open('xtestq1.pickle', 'rb') as f:\n",
        "    xtestq1 = pickle.load(f)\n",
        "\n",
        "# Loading the xtestq2 from the pickle file\n",
        "with open('xtestq2.pickle', 'rb') as f:\n",
        "    xtestq2 = pickle.load(f)\n",
        "\n",
        "# Loading the xtrainq1 from the pickle file\n",
        "with open('xtrainq1.pickle', 'rb') as f:\n",
        "    xtrainq1 = pickle.load(f)\n",
        "\n",
        "# Loading the xtrainq2 from the pickle file\n",
        "with open('xtrainq2.pickle', 'rb') as f:\n",
        "    xtrainq2 = pickle.load(f)\n",
        "\n",
        "# Loading the xtrainq2 from the pickle file\n",
        "with open('merged_q.pickle', 'rb') as f:\n",
        "    merged_q = pickle.load(f)\n",
        "\n"
      ],
      "metadata": {
        "id": "bDi4gTZL9JLs"
      },
      "execution_count": 9,
      "outputs": []
    },
    {
      "cell_type": "code",
      "source": [
        "xtrainq1"
      ],
      "metadata": {
        "id": "2lqqE-G1RMx_"
      },
      "execution_count": null,
      "outputs": []
    },
    {
      "cell_type": "code",
      "source": [
        "merged_q"
      ],
      "metadata": {
        "id": "EdGsnrNWBRxX"
      },
      "execution_count": null,
      "outputs": []
    },
    {
      "cell_type": "code",
      "source": [
        "#length after cleaning\n",
        "print(\"X_train1 =\",len(xtrainq1),\" ||\",\"X_test1  =\",len(xtestq1))\n",
        "print(\"X_train2 =\",len(xtrainq2),\" ||\",\"X_test2  =\",len(xtestq2))\n",
        "print(\"y_train  =\",len(y_train),\" ||\",\"y_test   =\",len(y_test))"
      ],
      "metadata": {
        "colab": {
          "base_uri": "https://localhost:8080/"
        },
        "id": "CBRkUSMD1zzE",
        "outputId": "de4266bc-cc48-4604-e0f9-a525981263f9"
      },
      "execution_count": null,
      "outputs": [
        {
          "output_type": "stream",
          "name": "stdout",
          "text": [
            "X_train1 = 238820  || X_test1  = 59706\n",
            "X_train2 = 238820  || X_test2  = 59706\n",
            "y_train  = 238820  || y_test   = 59706\n"
          ]
        }
      ]
    },
    {
      "cell_type": "code",
      "source": [
        "from tensorflow.keras.preprocessing.text import Tokenizer\n",
        "from tensorflow.keras.preprocessing.sequence import pad_sequences\n",
        "import pickle"
      ],
      "metadata": {
        "id": "L2TKZKTseIPV"
      },
      "execution_count": 10,
      "outputs": []
    },
    {
      "cell_type": "code",
      "source": [
        "#fitting tokenizer on full questions\n",
        "max_features = 20000\n",
        "tokenizer = Tokenizer(num_words=max_features)\n",
        "tokenizer.fit_on_texts(merged_q)\n",
        "\n",
        "# saving\n",
        "with open('tokenizer.pickle', 'wb') as handle:\n",
        "    pickle.dump(tokenizer, handle, protocol=pickle.HIGHEST_PROTOCOL)\n",
        "word_index = tokenizer.word_index"
      ],
      "metadata": {
        "id": "1diBz3yPuDbI"
      },
      "execution_count": null,
      "outputs": []
    },
    {
      "cell_type": "code",
      "source": [
        "\n",
        "# loading\n",
        "with open('tokenizer.pickle', 'rb') as handle:\n",
        "    tokenizer = pickle.load(handle)"
      ],
      "metadata": {
        "id": "pkrgnYEc0g08"
      },
      "execution_count": 11,
      "outputs": []
    },
    {
      "cell_type": "code",
      "source": [
        "#tokenizing train questions\n",
        "tokenized_train1 = tokenizer.texts_to_sequences(xtrainq1)\n",
        "tokenized_train2 = tokenizer.texts_to_sequences(xtrainq2)\n",
        "\n",
        "#tokenizing test questions\n",
        "tokenized_test1 = tokenizer.texts_to_sequences(xtestq1)\n",
        "tokenized_test2 = tokenizer.texts_to_sequences(xtestq2)\n",
        "\n",
        "#checking max_length and vocab size\n",
        "max_len = max(len(seq) for seq in tokenized_train1 + tokenized_train2)\n",
        "print('Maximum sequence length:', max_len)\n",
        "vocab_size = len(tokenizer.word_index) + 1\n",
        "print(\"tokenizer vocab size-\",vocab_size)\n",
        "\n",
        "     \n"
      ],
      "metadata": {
        "id": "wcMfB7-j8k7s",
        "colab": {
          "base_uri": "https://localhost:8080/"
        },
        "outputId": "e0854b6d-d12e-4be6-bef5-a3787b0ec480"
      },
      "execution_count": 12,
      "outputs": [
        {
          "output_type": "stream",
          "name": "stdout",
          "text": [
            "Maximum sequence length: 96\n",
            "tokenizer vocab size- 52218\n"
          ]
        }
      ]
    },
    {
      "cell_type": "code",
      "source": [
        "#padding tokenized  train data\n",
        "maxlen = 100\n",
        "X_train1 = pad_sequences(tokenized_train1, maxlen=maxlen,padding='post')\n",
        "X_train2 = pad_sequences(tokenized_train2, maxlen=maxlen,padding='post')\n",
        "\n",
        "#padding tokenized test data\n",
        "X_test1 = pad_sequences(tokenized_test1, maxlen=maxlen,padding='post')\n",
        "X_test2 = pad_sequences(tokenized_test2, maxlen=maxlen,padding='post')\n"
      ],
      "metadata": {
        "id": "8p_2UK-Bt5me"
      },
      "execution_count": 13,
      "outputs": []
    },
    {
      "cell_type": "code",
      "source": [
        "#path to glove embedding \n",
        "glove = \"glove.6B.300d.txt\""
      ],
      "metadata": {
        "id": "9oM9l27Lz-jU"
      },
      "execution_count": null,
      "outputs": []
    },
    {
      "cell_type": "code",
      "source": [
        "#glove embedding in a dictionary - embedding\n",
        "def glove_embedding(filename):  \n",
        "    file = open(filename,'r')\n",
        "    lines = file.readlines()\n",
        "    embedding = dict()\n",
        "    for line in lines:\n",
        "        parts = line.split()\n",
        "        embedding[parts[0]] = np.asarray(parts[1:],dtype='float32')\n",
        "    print(\"Found %s word vectors.\" % len(embedding))    \n",
        "    return(embedding)\n",
        " "
      ],
      "metadata": {
        "id": "b1s79ioAxyTH"
      },
      "execution_count": null,
      "outputs": []
    },
    {
      "cell_type": "code",
      "source": [
        "#embedding matrix - 2D array -300 dimensions of each word -glove.6B.300d.txt\n",
        "\n",
        "def embedding_matrix(vocabulary,embedd):  \n",
        "    hits = 0\n",
        "    misses = 0\n",
        "    vocab_size = len(vocabulary)+1\n",
        "    weight_matrix = np.zeros((vocab_size,300)) \n",
        "    \n",
        "    for word , i in vocabulary.items():\n",
        "        vector = embedd.get(word)\n",
        "        if vector is not None:\n",
        "            weight_matrix[i] = vector\n",
        "            hits += 1\n",
        "        else:\n",
        "           misses += 1\n",
        "    print(\"Converted %d words (%d misses)\" % (hits, misses))        \n",
        "    return(weight_matrix)"
      ],
      "metadata": {
        "id": "KyO0qtuezWXw"
      },
      "execution_count": null,
      "outputs": []
    },
    {
      "cell_type": "code",
      "source": [
        "#Glove embedding \n",
        "embedd = glove_embedding(glove)\n",
        "embedding_vectors = embedding_matrix(tokenizer.word_index,embedd)"
      ],
      "metadata": {
        "id": "-67zNhMz2027"
      },
      "execution_count": 15,
      "outputs": []
    },
    {
      "cell_type": "code",
      "source": [
        "# Save embedding weights to a file\n",
        "np.save(\"embedding_weights.npy\", embedding_vectors)\n",
        "print(\"Embedding weights saved successfully!\")\n",
        "\n"
      ],
      "metadata": {
        "id": "nLsZgW_Bx-cU",
        "colab": {
          "base_uri": "https://localhost:8080/"
        },
        "outputId": "53eda53f-88be-4478-d2cb-07979f68ae87"
      },
      "execution_count": null,
      "outputs": [
        {
          "output_type": "stream",
          "name": "stdout",
          "text": [
            "Embedding weights saved successfully!\n"
          ]
        }
      ]
    },
    {
      "cell_type": "code",
      "source": [
        "# Load the saved embedding matrix\n",
        "embedding_matrix = np.load('embedding_weights.npy')"
      ],
      "metadata": {
        "id": "3pumnyn-nSD1"
      },
      "execution_count": 16,
      "outputs": []
    },
    {
      "cell_type": "code",
      "source": [
        "import tensorflow as tf\n",
        "from tensorflow.keras.models import Model\n",
        "from tensorflow.keras.layers import Input, Embedding, LSTM, Lambda, Dense,Bidirectional,GRU,GlobalMaxPool1D\n",
        "from keras.layers import Dropout\n",
        "from keras import backend as K\n",
        "import numpy as np\n",
        "from keras.models import Sequential\n",
        "from keras.layers import LSTM, Dense, Lambda, Embedding, Dropout\n",
        "from keras.regularizers import l2\n",
        "from keras.optimizers import Adadelta\n",
        "from keras.preprocessing.text import Tokenizer\n",
        "from tensorflow.keras.preprocessing.sequence import pad_sequences\n",
        "import os\n",
        "from keras.callbacks import ModelCheckpoint, EarlyStopping\n",
        "from tensorflow.keras.layers import BatchNormalization\n",
        "from tensorflow.keras.layers import Flatten\n",
        "from tensorflow.keras.layers import Concatenate\n",
        "from keras import regularizers\n",
        "from keras.layers import concatenate\n",
        "from keras.optimizers import RMSprop\n",
        "\n",
        "\n"
      ],
      "metadata": {
        "id": "0yVN7g3VmnCO"
      },
      "execution_count": 17,
      "outputs": []
    },
    {
      "cell_type": "code",
      "source": [
        "# import tensorflow as tf\n",
        "# from tensorflow.keras.models import Model\n",
        "# from tensorflow.keras.layers import Input, Embedding, LSTM, Lambda, Dense\n",
        "# from keras.layers import Dropout\n",
        "# from keras import backend as K\n",
        "\n",
        "# # Set hyperparameters\n",
        "# MAX_SEQUENCE_LENGTH = 100\n",
        "# EMBEDDING_DIM = 300\n",
        "# LSTM_UNITS = 128\n",
        "\n",
        "# # Define input layers\n",
        "# input_1 = Input(shape=(MAX_SEQUENCE_LENGTH,))\n",
        "# input_2 = Input(shape=(MAX_SEQUENCE_LENGTH,))\n",
        "\n",
        "# # Define shared embedding layer\n",
        "# embedding_layer = Embedding(input_dim=embedding_matrix.shape[0],\n",
        "#                             output_dim=EMBEDDING_DIM,\n",
        "#                             weights=[embedding_matrix],\n",
        "#                             input_length=MAX_SEQUENCE_LENGTH,\n",
        "#                             trainable=False)\n",
        "\n",
        "\n",
        "# # Define shared LSTM layer with dropout and L2 regularization\n",
        "# lstm_layer = Bidirectional(LSTM(units=LSTM_UNITS, dropout=0.2, \n",
        "#                   kernel_regularizer=regularizers.l2(0.001)))\n",
        "\n",
        "\n",
        "# # Connect input to embedding and LSTM layers\n",
        "# embedded_1 = embedding_layer(input_1)\n",
        "# embedded_2 = embedding_layer(input_2)\n",
        "# encoded_1 = lstm_layer(embedded_1)\n",
        "# encoded_2 = lstm_layer(embedded_2)\n",
        "\n",
        "# # Define distance measure (use Manhattan distance)\n",
        "# distance = Lambda(lambda x: K.abs(x[0] - x[1]))\n",
        "\n",
        "# # Connect the encoded inputs to the distance measure\n",
        "# distance_output = distance([encoded_1, encoded_2])\n",
        "\n",
        "# # Add a dense layer with a sigmoid activation to produce the similarity score\n",
        "# output = Dense(units=1, activation='sigmoid')(distance_output)\n",
        "\n",
        "# # Define the model with the two inputs and the similarity score output\n",
        "# model = Model(inputs=[input_1, input_2], outputs=output)\n",
        "# model.compile(loss='binary_crossentropy', optimizer='adam', metrics=['accuracy'])\n",
        "\n",
        "# # Print the model summary\n",
        "# model.summary()\n",
        "\n",
        "\n",
        "\n"
      ],
      "metadata": {
        "id": "vqZWaMHC20LL",
        "colab": {
          "base_uri": "https://localhost:8080/"
        },
        "outputId": "02ce5faa-0ab0-4689-8bb2-37e583bc30af"
      },
      "execution_count": null,
      "outputs": [
        {
          "output_type": "stream",
          "name": "stdout",
          "text": [
            "Model: \"model\"\n",
            "__________________________________________________________________________________________________\n",
            " Layer (type)                   Output Shape         Param #     Connected to                     \n",
            "==================================================================================================\n",
            " input_1 (InputLayer)           [(None, 100)]        0           []                               \n",
            "                                                                                                  \n",
            " input_2 (InputLayer)           [(None, 100)]        0           []                               \n",
            "                                                                                                  \n",
            " embedding (Embedding)          (None, 100, 300)     15665400    ['input_1[0][0]',                \n",
            "                                                                  'input_2[0][0]']                \n",
            "                                                                                                  \n",
            " bidirectional (Bidirectional)  (None, 256)          439296      ['embedding[0][0]',              \n",
            "                                                                  'embedding[1][0]']              \n",
            "                                                                                                  \n",
            " lambda (Lambda)                (None, 256)          0           ['bidirectional[0][0]',          \n",
            "                                                                  'bidirectional[1][0]']          \n",
            "                                                                                                  \n",
            " dense (Dense)                  (None, 1)            257         ['lambda[0][0]']                 \n",
            "                                                                                                  \n",
            "==================================================================================================\n",
            "Total params: 16,104,953\n",
            "Trainable params: 439,553\n",
            "Non-trainable params: 15,665,400\n",
            "__________________________________________________________________________________________________\n"
          ]
        }
      ]
    },
    {
      "cell_type": "code",
      "source": [
        "\n",
        "# tf.keras.utils.plot_model(model, show_shapes=True)"
      ],
      "metadata": {
        "id": "hgyEzRoUBghr"
      },
      "execution_count": null,
      "outputs": []
    },
    {
      "cell_type": "code",
      "source": [
        "# history = model.fit([X_train1, X_train2], y_train, \n",
        "#                     epochs=30, batch_size=64, \n",
        "#                     validation_data=([X_test1, X_test2], y_test))\n"
      ],
      "metadata": {
        "colab": {
          "base_uri": "https://localhost:8080/"
        },
        "id": "ZpXdHLYCsXbs",
        "outputId": "bda65022-bc29-4ca5-a118-c7222ce88587"
      },
      "execution_count": null,
      "outputs": [
        {
          "output_type": "stream",
          "name": "stdout",
          "text": [
            "Epoch 1/30\n",
            "3732/3732 [==============================] - 122s 29ms/step - loss: 0.6139 - accuracy: 0.7058 - val_loss: 0.5673 - val_accuracy: 0.7451\n",
            "Epoch 2/30\n",
            "3732/3732 [==============================] - 106s 28ms/step - loss: 0.5653 - accuracy: 0.7430 - val_loss: 0.5491 - val_accuracy: 0.7593\n",
            "Epoch 3/30\n",
            "3732/3732 [==============================] - 109s 29ms/step - loss: 0.5538 - accuracy: 0.7547 - val_loss: 0.5510 - val_accuracy: 0.7616\n",
            "Epoch 4/30\n",
            "3732/3732 [==============================] - 104s 28ms/step - loss: 0.5464 - accuracy: 0.7612 - val_loss: 0.5519 - val_accuracy: 0.7648\n",
            "Epoch 5/30\n",
            "3732/3732 [==============================] - 102s 27ms/step - loss: 0.5414 - accuracy: 0.7656 - val_loss: 0.5489 - val_accuracy: 0.7694\n",
            "Epoch 6/30\n",
            "3732/3732 [==============================] - 107s 29ms/step - loss: 0.5395 - accuracy: 0.7676 - val_loss: 0.5647 - val_accuracy: 0.7637\n",
            "Epoch 7/30\n",
            "3732/3732 [==============================] - 110s 29ms/step - loss: 0.5366 - accuracy: 0.7707 - val_loss: 0.5652 - val_accuracy: 0.7671\n",
            "Epoch 8/30\n",
            "3732/3732 [==============================] - 104s 28ms/step - loss: 0.5338 - accuracy: 0.7731 - val_loss: 0.5618 - val_accuracy: 0.7678\n",
            "Epoch 9/30\n",
            "3732/3732 [==============================] - 103s 28ms/step - loss: 0.5314 - accuracy: 0.7759 - val_loss: 0.5625 - val_accuracy: 0.7695\n",
            "Epoch 10/30\n",
            "3732/3732 [==============================] - 105s 28ms/step - loss: 0.5287 - accuracy: 0.7776 - val_loss: 0.5558 - val_accuracy: 0.7760\n",
            "Epoch 11/30\n",
            "3732/3732 [==============================] - 103s 28ms/step - loss: 0.5271 - accuracy: 0.7800 - val_loss: 0.5545 - val_accuracy: 0.7771\n",
            "Epoch 12/30\n",
            "3732/3732 [==============================] - 104s 28ms/step - loss: 0.5258 - accuracy: 0.7812 - val_loss: 0.5674 - val_accuracy: 0.7694\n",
            "Epoch 13/30\n",
            "3732/3732 [==============================] - 105s 28ms/step - loss: 0.5239 - accuracy: 0.7835 - val_loss: 0.5561 - val_accuracy: 0.7776\n",
            "Epoch 14/30\n",
            "3732/3732 [==============================] - 103s 28ms/step - loss: 0.5234 - accuracy: 0.7832 - val_loss: 0.5559 - val_accuracy: 0.7776\n",
            "Epoch 15/30\n",
            "3732/3732 [==============================] - 105s 28ms/step - loss: 0.5218 - accuracy: 0.7852 - val_loss: 0.5558 - val_accuracy: 0.7791\n",
            "Epoch 16/30\n",
            "3732/3732 [==============================] - 106s 28ms/step - loss: 0.5209 - accuracy: 0.7851 - val_loss: 0.5594 - val_accuracy: 0.7782\n",
            "Epoch 17/30\n",
            "3732/3732 [==============================] - 105s 28ms/step - loss: 0.5195 - accuracy: 0.7869 - val_loss: 0.5593 - val_accuracy: 0.7784\n",
            "Epoch 18/30\n",
            "3732/3732 [==============================] - 104s 28ms/step - loss: 0.5191 - accuracy: 0.7881 - val_loss: 0.5683 - val_accuracy: 0.7743\n",
            "Epoch 19/30\n",
            "3732/3732 [==============================] - 104s 28ms/step - loss: 0.5210 - accuracy: 0.7883 - val_loss: 0.5626 - val_accuracy: 0.7792\n",
            "Epoch 20/30\n",
            "3732/3732 [==============================] - 105s 28ms/step - loss: 0.5178 - accuracy: 0.7898 - val_loss: 0.5591 - val_accuracy: 0.7804\n",
            "Epoch 21/30\n",
            "3732/3732 [==============================] - 104s 28ms/step - loss: 0.5162 - accuracy: 0.7908 - val_loss: 0.5653 - val_accuracy: 0.7789\n",
            "Epoch 22/30\n",
            "3732/3732 [==============================] - 103s 28ms/step - loss: 0.5160 - accuracy: 0.7918 - val_loss: 0.5667 - val_accuracy: 0.7783\n",
            "Epoch 23/30\n",
            "3732/3732 [==============================] - 103s 28ms/step - loss: 0.5150 - accuracy: 0.7921 - val_loss: 0.5700 - val_accuracy: 0.7761\n",
            "Epoch 24/30\n",
            "3732/3732 [==============================] - 102s 27ms/step - loss: 0.5138 - accuracy: 0.7930 - val_loss: 0.5662 - val_accuracy: 0.7788\n",
            "Epoch 25/30\n",
            "3732/3732 [==============================] - 101s 27ms/step - loss: 0.5638 - accuracy: 0.7616 - val_loss: 0.6460 - val_accuracy: 0.7252\n",
            "Epoch 26/30\n",
            "3732/3732 [==============================] - 103s 28ms/step - loss: 0.5468 - accuracy: 0.7723 - val_loss: 0.5624 - val_accuracy: 0.7777\n",
            "Epoch 27/30\n",
            "3732/3732 [==============================] - 104s 28ms/step - loss: 0.5178 - accuracy: 0.7905 - val_loss: 0.5595 - val_accuracy: 0.7796\n",
            "Epoch 28/30\n",
            "3732/3732 [==============================] - 104s 28ms/step - loss: 0.5131 - accuracy: 0.7934 - val_loss: 0.5717 - val_accuracy: 0.7776\n",
            "Epoch 29/30\n",
            "3732/3732 [==============================] - 103s 27ms/step - loss: 0.5116 - accuracy: 0.7948 - val_loss: 0.5579 - val_accuracy: 0.7830\n",
            "Epoch 30/30\n",
            "3732/3732 [==============================] - 104s 28ms/step - loss: 0.5124 - accuracy: 0.7951 - val_loss: 0.5611 - val_accuracy: 0.7809\n"
          ]
        }
      ]
    },
    {
      "cell_type": "code",
      "source": [
        "# # save the model and weights\n",
        "# model.save('bimalstm-glove300model.h5')\n",
        "\n",
        "# # Epoch 30/30 batch 64\n",
        "# # 3732/3732 [==============================] - 104s 28ms/step - loss: 0.5124 - accuracy: 0.7951 - val_loss: 0.5611 - val_accuracy: 0.7809\n",
        "\n",
        "# import matplotlib.pyplot as plt\n",
        "\n",
        "# plt.plot(history.history['accuracy'])\n",
        "# plt.plot(history.history['val_accuracy'])\n",
        "# plt.title('Model accuracy')\n",
        "# plt.xlabel('Epoch')\n",
        "# plt.ylabel('Accuracy')\n",
        "# plt.legend(['Train', 'Val'], loc='upper left')\n",
        "# plt.show()\n"
      ],
      "metadata": {
        "id": "gfChqcv9xg_H",
        "colab": {
          "base_uri": "https://localhost:8080/",
          "height": 295
        },
        "outputId": "2035bb74-54a3-4b6f-98d8-f895584582ee"
      },
      "execution_count": null,
      "outputs": [
        {
          "output_type": "display_data",
          "data": {
            "text/plain": [
              "<Figure size 432x288 with 1 Axes>"
            ],
            "image/png": "[encoded data removed]"
          },
          "metadata": {
            "needs_background": "light"
          }
        }
      ]
    },
    {
      "cell_type": "code",
      "source": [
        "# # def contrastive_loss_with_margin(margin):\n",
        "# #     def contrastive_loss(y_true, y_pred):\n",
        "# #         y_true = tf.cast(y_true, tf.float32)\n",
        "# #         square_pred = K.square(y_pred)\n",
        "# #         margin_square = K.square(K.maximum(margin - y_pred, 0))\n",
        "# #         return K.mean(y_true * square_pred + (1 - y_true) * margin_square)\n",
        "# #     return contrastive_loss\n",
        "# def loss(margin=0.5):\n",
        "#     \"\"\"Provides 'constrastive_loss' an enclosing scope with variable 'margin'.\n",
        "\n",
        "#     Arguments:\n",
        "#         margin: Integer, defines the baseline for distance for which pairs\n",
        "#                 should be classified as dissimilar. - (default is 1).\n",
        "\n",
        "#     Returns:\n",
        "#         'constrastive_loss' function with data ('margin') attached.\n",
        "#     \"\"\"\n",
        "\n",
        "#     # Contrastive loss = mean( (1-true_value) * square(prediction) +\n",
        "#     #                         true_value * square( max(margin-prediction, 0) ))\n",
        "#     def contrastive_loss(y_true, y_pred):\n",
        "#      \"\"\"Calculates the constrastive loss.\n",
        "\n",
        "#      Arguments:\n",
        "#         y_true: List of labels, each label is of type float32.\n",
        "#         y_pred: List of predictions of same length as of y_true,\n",
        "#                 each label is of type float32.\n",
        "\n",
        "#     Returns:\n",
        "#         A tensor containing constrastive loss as floating point value.\n",
        "#     \"\"\"\n",
        "#      y_true = tf.cast(y_true, tf.float32)\n",
        "#      square_pred = tf.math.square(y_pred)\n",
        "#      margin_square = tf.math.square(tf.math.maximum(margin - (y_pred), 0))\n",
        "#      return tf.math.reduce_mean(\n",
        "#         (y_true) * square_pred + (1 - y_true) * margin_square\n",
        "#     )\n",
        "\n",
        "\n",
        "#     return contrastive_loss\n",
        "def loss(margin=2):\n",
        "    \"\"\"Provides 'constrastive_loss' an enclosing scope with variable 'margin'.\n",
        "\n",
        "    Arguments:\n",
        "        margin: Integer, defines the baseline for distance for which pairs\n",
        "                should be classified as dissimilar. - (default is 1).\n",
        "\n",
        "    Returns:\n",
        "        'constrastive_loss' function with data ('margin') attached.\n",
        "    \"\"\"\n",
        "\n",
        "    # Contrastive loss = mean( (1-true_value) * square(prediction) +\n",
        "    #                         true_value * square( max(margin-prediction, 0) ))\n",
        "    def contrastive_loss(y_true, y_pred):\n",
        "        \"\"\"Calculates the constrastive loss.\n",
        "\n",
        "        Arguments:\n",
        "            y_true: List of labels, each label is of type float32.\n",
        "            y_pred: List of predictions of same length as of y_true,\n",
        "                    each label is of type float32.\n",
        "\n",
        "        Returns:\n",
        "            A tensor containing constrastive loss as floating point value.\n",
        "        \"\"\"\n",
        "        y_true = tf.cast(y_true, tf.float32)\n",
        "        square_pred = tf.math.square(y_pred)\n",
        "        margin_square = tf.math.square(tf.math.maximum(margin - (y_pred), 0))\n",
        "        return tf.math.reduce_mean(\n",
        "            (1 - y_true) * square_pred + (y_true) * margin_square\n",
        "        )\n",
        "\n",
        "    return contrastive_loss\n",
        "\n",
        "\n",
        "    \n",
        "    \n",
        "    \n",
        "    "
      ],
      "metadata": {
        "id": "ZOnFrWQc475w"
      },
      "execution_count": 19,
      "outputs": []
    },
    {
      "cell_type": "code",
      "source": [
        "import tensorflow as tf\n",
        "from tensorflow.keras.models import Model\n",
        "from tensorflow.keras.layers import Input, Embedding, LSTM, Lambda, Dense\n",
        "from keras.layers import Dropout\n",
        "from keras import backend as K\n",
        "METRICS = [\n",
        "      tf.keras.metrics.BinaryAccuracy(name='accuracy'),\n",
        "      tf.keras.metrics.Precision(name='precision'),\n",
        "      tf.keras.metrics.Recall(name='recall')\n",
        "]\n",
        "\n",
        "# Set hyperparameters\n",
        "MAX_SEQUENCE_LENGTH = 100\n",
        "EMBEDDING_DIM = 300\n",
        "LSTM_UNITS = 128\n",
        "\n",
        "# Define input layers\n",
        "input_1 = Input(shape=(MAX_SEQUENCE_LENGTH,))\n",
        "input_2 = Input(shape=(MAX_SEQUENCE_LENGTH,))\n",
        "\n",
        "# Define shared embedding layer\n",
        "embedding_layer = Embedding(input_dim=embedding_matrix.shape[0],\n",
        "                            output_dim=EMBEDDING_DIM,\n",
        "                            weights=[embedding_matrix],\n",
        "                            input_length=MAX_SEQUENCE_LENGTH,\n",
        "                            trainable=True)\n",
        "\n",
        "\n",
        "# Define shared LSTM layer with dropout and L2 regularization\n",
        "lstm_layer = Bidirectional(LSTM(units=LSTM_UNITS, dropout=0.2, \n",
        "                  kernel_regularizer=regularizers.l2(0.001)))\n",
        "\n",
        "\n",
        "# Connect input to embedding and LSTM layers\n",
        "embedded_1 = embedding_layer(input_1)\n",
        "embedded_2 = embedding_layer(input_2)\n",
        "encoded_1 = lstm_layer(embedded_1)\n",
        "encoded_2 = lstm_layer(embedded_2)\n",
        "\n",
        "# Define distance measure (use Manhattan distance)\n",
        "distance = Lambda(lambda x: K.abs(x[0] - x[1]))\n",
        "\n",
        "# Connect the encoded inputs to the distance measure\n",
        "distance_output = distance([encoded_1, encoded_2])\n",
        "\n",
        "# Add a dense layer with a sigmoid activation to produce the similarity score\n",
        "output = Dense(units=1, activation='sigmoid')(distance_output)\n",
        "\n",
        "# Define the model with the two inputs and the similarity score output\n",
        "model = Model(inputs=[input_1, input_2], outputs=output)\n",
        "rms = RMSprop()\n",
        "margin=2\n",
        "model.compile(loss=loss(margin=margin), optimizer=rms, metrics=METRICS)\n",
        "\n",
        "\n",
        "# Print the model summary\n",
        "model.summary()\n"
      ],
      "metadata": {
        "colab": {
          "base_uri": "https://localhost:8080/"
        },
        "id": "Gm-KGDI493bN",
        "outputId": "c16c3331-0c9c-4b0e-ac3b-3024e939870c"
      },
      "execution_count": 20,
      "outputs": [
        {
          "output_type": "stream",
          "name": "stdout",
          "text": [
            "Model: \"model_1\"\n",
            "__________________________________________________________________________________________________\n",
            " Layer (type)                   Output Shape         Param #     Connected to                     \n",
            "==================================================================================================\n",
            " input_3 (InputLayer)           [(None, 100)]        0           []                               \n",
            "                                                                                                  \n",
            " input_4 (InputLayer)           [(None, 100)]        0           []                               \n",
            "                                                                                                  \n",
            " embedding_1 (Embedding)        (None, 100, 300)     15665400    ['input_3[0][0]',                \n",
            "                                                                  'input_4[0][0]']                \n",
            "                                                                                                  \n",
            " bidirectional_1 (Bidirectional  (None, 256)         439296      ['embedding_1[0][0]',            \n",
            " )                                                                'embedding_1[1][0]']            \n",
            "                                                                                                  \n",
            " lambda_1 (Lambda)              (None, 256)          0           ['bidirectional_1[0][0]',        \n",
            "                                                                  'bidirectional_1[1][0]']        \n",
            "                                                                                                  \n",
            " dense_1 (Dense)                (None, 1)            257         ['lambda_1[0][0]']               \n",
            "                                                                                                  \n",
            "==================================================================================================\n",
            "Total params: 16,104,953\n",
            "Trainable params: 16,104,953\n",
            "Non-trainable params: 0\n",
            "__________________________________________________________________________________________________\n"
          ]
        }
      ]
    },
    {
      "cell_type": "code",
      "source": [
        "tf.keras.utils.plot_model(model, show_shapes=True)"
      ],
      "metadata": {
        "id": "R7jKxAkA5OgQ"
      },
      "execution_count": null,
      "outputs": []
    },
    {
      "cell_type": "code",
      "source": [
        "history = model.fit([X_train1, X_train2], y_train, \n",
        "                    epochs=10, batch_size=512, \n",
        "                    validation_data=([X_test1, X_test2], y_test))"
      ],
      "metadata": {
        "colab": {
          "base_uri": "https://localhost:8080/"
        },
        "id": "QacBmEQ_5UsZ",
        "outputId": "1b6fc4f2-d3a2-44d9-8766-f7e37e88c8e5"
      },
      "execution_count": null,
      "outputs": [
        {
          "output_type": "stream",
          "name": "stdout",
          "text": [
            "Epoch 1/10\n",
            "129/467 [=======>......................] - ETA: 49:53 - loss: 1.1881 - accuracy: 0.5129 - precision: 0.5067 - recall: 0.9909"
          ]
        }
      ]
    },
    {
      "cell_type": "code",
      "source": [],
      "metadata": {
        "id": "iVxtfKek72hZ"
      },
      "execution_count": null,
      "outputs": []
    },
    {
      "cell_type": "code",
      "source": [
        "# tf.keras.utils.plot_model(base_network, show_shapes=True)"
      ],
      "metadata": {
        "id": "zHcsEGar5Gb4"
      },
      "execution_count": null,
      "outputs": []
    },
    {
      "cell_type": "code",
      "source": [
        "# from scipy.spatial.distance import cityblock\n",
        "# import tensorflow as tf\n",
        "# from tensorflow.keras.models import Model\n",
        "# from tensorflow.keras.layers import Input, Embedding, LSTM, Lambda, Dense\n",
        "# from keras.layers import Dropout\n",
        "# from keras import backend as K\n",
        "\n",
        "# # Set hyperparameters\n",
        "# MAX_SEQUENCE_LENGTH = 100\n",
        "# EMBEDDING_DIM = 300\n",
        "# LSTM_UNITS = 128\n",
        "\n",
        "# # Define input layers\n",
        "# input_1 = Input(shape=(MAX_SEQUENCE_LENGTH,))\n",
        "# input_2 = Input(shape=(MAX_SEQUENCE_LENGTH,))\n",
        "\n",
        "# # Define shared embedding layer\n",
        "# embedding_layer = Embedding(input_dim=embedding_matrix.shape[0],\n",
        "#                             output_dim=EMBEDDING_DIM,\n",
        "#                             weights=[embedding_matrix],\n",
        "#                             input_length=MAX_SEQUENCE_LENGTH,\n",
        "#                             trainable=False)\n",
        "\n",
        "\n",
        "# # Define shared LSTM layer with dropout and L2 regularization\n",
        "# lstm_layer = Bidirectional(LSTM(units=LSTM_UNITS, dropout=0.2, \n",
        "#                   kernel_regularizer=regularizers.l2(0.001)))\n",
        "\n",
        "\n",
        "# # Connect input to embedding and LSTM layers\n",
        "# embedded_1 = embedding_layer(input_1)\n",
        "# embedded_2 = embedding_layer(input_2)\n",
        "# encoded_1 = lstm_layer(embedded_1)\n",
        "# encoded_2 = lstm_layer(embedded_2)\n",
        "\n",
        "# # Define distance measure (use Manhattan distance)\n",
        "# distance = Lambda(lambda x: K.abs(x[0] - x[1]))\n",
        "\n",
        "\n",
        "\n",
        "\n",
        "# # Connect the encoded inputs to the distance measure\n",
        "# distance_output = distance([encoded_1, encoded_2])\n",
        "\n",
        "# # Add a dense layer with a sigmoid activation to produce the similarity score\n",
        "# output = Dense(units=1, activation='sigmoid')(distance_output)\n",
        "\n",
        "# # Define the model with the two inputs and the similarity score output\n",
        "# model = Model(inputs=[input_1, input_2], outputs=output)\n",
        "# model.compile(loss='binary_crossentropy', optimizer='adam', metrics=['accuracy'])\n",
        "# # # Compile the model with the contrastive loss\n",
        "# # siamese_lstm.compile(loss=loss(margin=1), optimizer='adam')\n",
        "\n",
        "# # Print the model summary\n",
        "# model.summary()\n"
      ],
      "metadata": {
        "id": "IjCcLlFU7fzc"
      },
      "execution_count": null,
      "outputs": []
    },
    {
      "cell_type": "code",
      "source": [
        "# history = model.fit([X_train1, X_train2], y_train, \n",
        "#                     epochs=30, batch_size=64, \n",
        "#                     validation_data=([X_test1, X_test2], y_test))"
      ],
      "metadata": {
        "id": "5zx2AuW0xifu"
      },
      "execution_count": null,
      "outputs": []
    },
    {
      "cell_type": "code",
      "source": [
        "# save the model and weights\n",
        "# model.save('conlossbimalstm-glove300model.h5')\n",
        "#margin 1 epoch 30 batchsize 128\n",
        "\n",
        "# Epoch 30/30\n",
        "# 1866/1866 [==============================] - 82s 44ms/step - loss: 0.1714 - accuracy: 0.7918 - precision: 0.7709 - recall: 0.8307 - val_loss: 0.1836 - val_accuracy: 0.7787 - val_precision: 0.7286 - val_recall: 0.8869\n",
        "\n",
        "import matplotlib.pyplot as plt\n",
        "\n",
        "plt.plot(history.history['accuracy'])\n",
        "plt.plot(history.history['val_accuracy'])\n",
        "plt.title('Model accuracy')\n",
        "plt.xlabel('Epoch')\n",
        "plt.ylabel('Accuracy')\n",
        "plt.legend(['Train', 'Val'], loc='upper left')\n",
        "plt.show()"
      ],
      "metadata": {
        "id": "XUQ222PP5VZY",
        "colab": {
          "base_uri": "https://localhost:8080/",
          "height": 295
        },
        "outputId": "9da9f6d4-a4fa-4e10-bde3-73cb944bdb25"
      },
      "execution_count": 59,
      "outputs": [
        {
          "output_type": "display_data",
          "data": {
            "text/plain": [
              "<Figure size 432x288 with 1 Axes>"
            ],
            "image/png": "[encoded data removed]"
          },
          "metadata": {
            "needs_background": "light"
          }
        }
      ]
    },
    {
      "cell_type": "code",
      "source": [
        "# save the model and weights\n",
        "# model.save('malstm-glove300model1.h5')\n",
        "# Epoch 30/30 batch 128\n",
        "# 1866/1866 [==============================] - 41s 22ms/step - loss: 0.2307 - accuracy: 0.9315 - val_loss: 0.6722 - val_accuracy: 0.7575"
      ],
      "metadata": {
        "id": "UEzhbPhHMKnO"
      },
      "execution_count": null,
      "outputs": []
    },
    {
      "cell_type": "code",
      "source": [
        "from tensorflow.keras.models import load_model\n",
        "from keras import backend as K\n",
        "\n",
        "model = load_model('bimalstm-glove300model.h5') "
      ],
      "metadata": {
        "id": "s4-MLILTBT8G"
      },
      "execution_count": null,
      "outputs": []
    },
    {
      "cell_type": "code",
      "source": [
        "loss, accuracy = model.evaluate([X_test1, X_test2], y_test, batch_size=32)"
      ],
      "metadata": {
        "colab": {
          "base_uri": "https://localhost:8080/"
        },
        "id": "X20elPBY9vYp",
        "outputId": "5bffc39e-ebf3-4585-c904-127d6f548ee2"
      },
      "execution_count": null,
      "outputs": [
        {
          "output_type": "stream",
          "name": "stdout",
          "text": [
            "1866/1866 [==============================] - 24s 10ms/step - loss: 0.5611 - accuracy: 0.7809\n"
          ]
        }
      ]
    },
    {
      "cell_type": "code",
      "source": [
        "print(\"loss:\",loss)\n",
        "print(\"accuracy:\",accuracy)"
      ],
      "metadata": {
        "id": "VD2aZTGE_Yhq",
        "colab": {
          "base_uri": "https://localhost:8080/"
        },
        "outputId": "fe961e28-55c0-49ce-ebaf-acbbafda11d5"
      },
      "execution_count": null,
      "outputs": [
        {
          "output_type": "stream",
          "name": "stdout",
          "text": [
            "loss: 0.5610932111740112\n",
            "accuracy: 0.7809432744979858\n"
          ]
        }
      ]
    },
    {
      "cell_type": "code",
      "source": [
        "# Make predictions on the test set\n",
        "y_pred = model.predict([X_test1, X_test2])\n",
        "\n",
        "# Convert predicted probabilities to binary labels\n",
        "y_pred = np.round(y_pred)\n",
        "\n",
        "# Print the classification report\n",
        "from sklearn.metrics import classification_report\n",
        "print(classification_report(y_test, y_pred))\n",
        "print('Test accuracy:', accuracy)"
      ],
      "metadata": {
        "id": "olYrANw2AV7S",
        "colab": {
          "base_uri": "https://localhost:8080/"
        },
        "outputId": "8f7fe9f7-f9cf-4d12-d609-cc9a07516045"
      },
      "execution_count": null,
      "outputs": [
        {
          "output_type": "stream",
          "name": "stdout",
          "text": [
            "1866/1866 [==============================] - 15s 8ms/step\n",
            "              precision    recall  f1-score   support\n",
            "\n",
            "           0       0.86      0.67      0.75     29920\n",
            "           1       0.73      0.89      0.80     29786\n",
            "\n",
            "    accuracy                           0.78     59706\n",
            "   macro avg       0.79      0.78      0.78     59706\n",
            "weighted avg       0.80      0.78      0.78     59706\n",
            "\n",
            "Test accuracy: 0.7809432744979858\n"
          ]
        }
      ]
    },
    {
      "cell_type": "code",
      "source": [
        "# Calculate the confusion matrix\n",
        "cm = confusion_matrix(y_test, y_pred)\n",
        "\n",
        "# Create a colormap\n",
        "cmap = sns.color_palette(\"Blues\")\n",
        "\n",
        "# Plot the confusion matrix\n",
        "sns.heatmap(cm, annot=True, cmap=cmap, fmt='g')\n",
        "\n",
        "\n",
        "# Add labels to the plot\n",
        "plt.xlabel('Predicted labels')\n",
        "plt.ylabel('True labels')\n",
        "plt.title('Confusion Matrix')\n",
        "\n",
        "plt.show()"
      ],
      "metadata": {
        "colab": {
          "base_uri": "https://localhost:8080/",
          "height": 295
        },
        "id": "cr0NBcV9pNka",
        "outputId": "56fa0553-76ce-4095-da2f-47ad19764a24"
      },
      "execution_count": null,
      "outputs": [
        {
          "output_type": "display_data",
          "data": {
            "text/plain": [
              "<Figure size 432x288 with 2 Axes>"
            ],
            "image/png": "[encoded data removed]"
          },
          "metadata": {
            "needs_background": "light"
          }
        }
      ]
    },
    {
      "cell_type": "code",
      "source": [
        "from tensorflow.keras.preprocessing.sequence import pad_sequences\n",
        "\n",
        "def convert_text(question1, question2):\n",
        "\n",
        "    #Clean text\n",
        "    q1=Cleaning(question1)\n",
        "    q2=Cleaning(question2)\n",
        "    print(q1,\"  \",q2)\n",
        "    # Tokenize the questions and convert to sequences\n",
        "    q1_seq = tokenizer.texts_to_sequences(q1)\n",
        "    q2_seq = tokenizer.texts_to_sequences(q2)\n",
        "    print(q1_seq,\"  \",q2_seq)\n",
        "    # Pad sequences to be of the same length\n",
        "    max_length = 100\n",
        "    q1_padded = pad_sequences(q1_seq, maxlen=max_length, padding='post', truncating='post')\n",
        "    q2_padded = pad_sequences(q2_seq, maxlen=max_length, padding='post', truncating='post')\n",
        "    print(q1_padded,\"  \",q2_padded)\n",
        "\n",
        "    return(q1_padded,q2_padded)\n",
        "# def predict_similarity(q1_pad,q2_pad,model):\n",
        "\n",
        "#     # Make prediction using the loaded model\n",
        "#     similarity_prob = model.predict(q1_pad, q2_pad)\n",
        "#     print(similarity_prob)\n",
        "    \n",
        "#     # # Binary prediction: 0 for not similar, 1 for similar\n",
        "#     # if similarity_prob > 0.5:\n",
        "#     #     return 1\n",
        "#     # else:\n",
        "#     #     return 0\n"
      ],
      "metadata": {
        "id": "pcUn3DWXBnIp"
      },
      "execution_count": null,
      "outputs": []
    },
    {
      "cell_type": "code",
      "source": [
        "def predict_similarity(q1_pad,q2_pad,model):\n",
        "\n",
        "    # Make prediction using the loaded model\n",
        "    similarity_prob = model.predict([q1_pad, q2_pad])[0][0]\n",
        "    print(similarity_prob)\n",
        "    \n",
        "    # Binary prediction: 0 for not similar, 1 for similar\n",
        "    if similarity_prob > 0.5:\n",
        "        return (\"similar\")\n",
        "    else:\n",
        "        return (\"not similar\")"
      ],
      "metadata": {
        "id": "RSo7G5t0JeEi"
      },
      "execution_count": null,
      "outputs": []
    },
    {
      "cell_type": "code",
      "source": [
        "#give input to check whether questions are similar or not\n",
        "question1=['Why do girls want to be friends with the guy they reject?']\n",
        "question2=['How do guys feel after rejecting a girl?']\n",
        "\n",
        "q1_pad,q2_pad = convert_text(question1, question2)\n",
        "\n",
        "result = predict_similarity(q1_pad, q2_pad, model)\n",
        "result\n",
        "\n"
      ],
      "metadata": {
        "colab": {
          "base_uri": "https://localhost:8080/"
        },
        "id": "AB5fjR2PC9H4",
        "outputId": "d81cf2fe-c3fe-4760-c3b3-e2e20861ce34"
      },
      "execution_count": null,
      "outputs": [
        {
          "output_type": "stream",
          "name": "stdout",
          "text": [
            "['girls want friends guy reject']    ['guy feel reject girl']\n",
            "[[246, 40, 225, 148, 1558]]    [[148, 47, 1558, 88]]\n",
            "[[ 246   40  225  148 1558    0    0    0    0    0    0    0    0    0\n",
            "     0    0    0    0    0    0    0    0    0    0    0    0    0    0\n",
            "     0    0    0    0    0    0    0    0    0    0    0    0    0    0\n",
            "     0    0    0    0    0    0    0    0    0    0    0    0    0    0\n",
            "     0    0    0    0    0    0    0    0    0    0    0    0    0    0\n",
            "     0    0    0    0    0    0    0    0    0    0    0    0    0    0\n",
            "     0    0    0    0    0    0    0    0    0    0    0    0    0    0\n",
            "     0    0]]    [[ 148   47 1558   88    0    0    0    0    0    0    0    0    0    0\n",
            "     0    0    0    0    0    0    0    0    0    0    0    0    0    0\n",
            "     0    0    0    0    0    0    0    0    0    0    0    0    0    0\n",
            "     0    0    0    0    0    0    0    0    0    0    0    0    0    0\n",
            "     0    0    0    0    0    0    0    0    0    0    0    0    0    0\n",
            "     0    0    0    0    0    0    0    0    0    0    0    0    0    0\n",
            "     0    0    0    0    0    0    0    0    0    0    0    0    0    0\n",
            "     0    0]]\n",
            "['question']\n"
          ]
        }
      ]
    },
    {
      "cell_type": "code",
      "source": [
        "#for dataframe \n",
        "import pandas as pd\n",
        "\n",
        "def predict_similaritydf(df, model, tokenizer):\n",
        "    # Clean the question1 using Cleaning function\n",
        "    q1_cleaned = Cleaning(df['question1'])\n",
        "    #Clean question2\n",
        "    q2_cleaned = Cleaning(df['question2'])\n",
        "\n",
        "    similarity_probs = []\n",
        "    similarity_labels = []\n",
        "    tup_q=zip(q1_cleaned, q2_cleaned)\n",
        "\n",
        "    for q11, q22 in tup_q:\n",
        "        \n",
        "        # Tokenize the questions and convert to sequences\n",
        "        q1_seq = tokenizer.texts_to_sequences([q11])\n",
        "        q2_seq = tokenizer.texts_to_sequences([q22])\n",
        "     \n",
        "        # Pad sequences to be of the same length\n",
        "        max_length = 100\n",
        "        q1_padded = pad_sequences(q1_seq, maxlen=max_length, padding='post', truncating='post')\n",
        "        q2_padded = pad_sequences(q2_seq, maxlen=max_length, padding='post', truncating='post')\n",
        "\n",
        "        # Make prediction using the loaded model\n",
        "        similarity_prob = model.predict([q1_padded, q2_padded])[0][0]\n",
        "        similarity_probs.append(similarity_prob)\n",
        "\n",
        "        # Determine similarity label based on threshold\n",
        "        threshold=0.5\n",
        "        if similarity_prob >= threshold:\n",
        "            similarity_label = \"similar\"\n",
        "        else:\n",
        "            similarity_label = \"not similar\"\n",
        "        similarity_labels.append(similarity_label)\n",
        "\n",
        "    # Create a new column in the dataframe to store the similarity probabilities\n",
        "    df['similarity_prob'] = similarity_probs\n",
        "    df['similarity_label'] = similarity_labels\n",
        "    return df\n"
      ],
      "metadata": {
        "id": "LwONszrfJkW3"
      },
      "execution_count": null,
      "outputs": []
    },
    {
      "cell_type": "code",
      "source": [
        "# Example dataframe\n",
        "df = pd.DataFrame({\n",
        "    'question1': ['How do you make a cup of coffee?','what is your favourite day','what is the difference between artifical neurons and biological neurons','What can make Physics easy to learn?','What is the capital of France?', 'What is the meaning of life?','Astrology: I am a Capricorn Sun Cap moon and cap rising...what does that say about me?'],\n",
        "    'question2': ['What is the process of brewing coffee?','what is your favourite season','why the human brains are so efficient rather than machines','How can you make physics easy to learn?','What is the capital of Spain?', 'What is the purpose of existence?','I/m a triple Capricorn (Sun, Moon and ascendant in Capricorn) What does this say about me?']\n",
        "})\n"
      ],
      "metadata": {
        "id": "b2lw6ccUNl2h"
      },
      "execution_count": null,
      "outputs": []
    },
    {
      "cell_type": "code",
      "source": [
        "predicted_df = predict_similaritydf(df, model, tokenizer)\n",
        "\n"
      ],
      "metadata": {
        "colab": {
          "base_uri": "https://localhost:8080/"
        },
        "id": "iNf1Zvo2Nuho",
        "outputId": "724ea64d-71bd-427d-84d4-9b44ab73e83d"
      },
      "execution_count": null,
      "outputs": [
        {
          "output_type": "stream",
          "name": "stdout",
          "text": [
            "1/1 [==============================] - 0s 28ms/step\n",
            "1/1 [==============================] - 0s 25ms/step\n",
            "1/1 [==============================] - 0s 34ms/step\n",
            "1/1 [==============================] - 0s 23ms/step\n",
            "1/1 [==============================] - 0s 26ms/step\n",
            "1/1 [==============================] - 0s 24ms/step\n",
            "1/1 [==============================] - 0s 26ms/step\n"
          ]
        }
      ]
    },
    {
      "cell_type": "code",
      "source": [
        "predicted_df.head()"
      ],
      "metadata": {
        "colab": {
          "base_uri": "https://localhost:8080/",
          "height": 206
        },
        "id": "7wGQTOERb-j1",
        "outputId": "457a80d6-56dc-44d1-9a5f-d3fd5d893b43"
      },
      "execution_count": null,
      "outputs": [
        {
          "output_type": "execute_result",
          "data": {
            "text/plain": [
              "                                           question1  \\\n",
              "0                   How do you make a cup of coffee?   \n",
              "1                         what is your favourite day   \n",
              "2  what is the difference between artifical neuro...   \n",
              "3               What can make Physics easy to learn?   \n",
              "4                     What is the capital of France?   \n",
              "\n",
              "                                           question2  similarity_prob  \\\n",
              "0             What is the process of brewing coffee?         0.224393   \n",
              "1                      what is your favourite season         0.586154   \n",
              "2  why the human brains are so efficient rather t...         0.050672   \n",
              "3            How can you make physics easy to learn?         0.954900   \n",
              "4                      What is the capital of Spain?         0.604505   \n",
              "\n",
              "  similarity_label  \n",
              "0      not similar  \n",
              "1          similar  \n",
              "2      not similar  \n",
              "3          similar  \n",
              "4          similar  "
            ],
            "text/html": [
              "\n",
              "  <div id=\"df-ae310fae-6a9a-4220-9d43-d08f91842888\">\n",
              "    <div class=\"colab-df-container\">\n",
              "      <div>\n",
              "<style scoped>\n",
              "    .dataframe tbody tr th:only-of-type {\n",
              "        vertical-align: middle;\n",
              "    }\n",
              "\n",
              "    .dataframe tbody tr th {\n",
              "        vertical-align: top;\n",
              "    }\n",
              "\n",
              "    .dataframe thead th {\n",
              "        text-align: right;\n",
              "    }\n",
              "</style>\n",
              "<table border=\"1\" class=\"dataframe\">\n",
              "  <thead>\n",
              "    <tr style=\"text-align: right;\">\n",
              "      <th></th>\n",
              "      <th>question1</th>\n",
              "      <th>question2</th>\n",
              "      <th>similarity_prob</th>\n",
              "      <th>similarity_label</th>\n",
              "    </tr>\n",
              "  </thead>\n",
              "  <tbody>\n",
              "    <tr>\n",
              "      <th>0</th>\n",
              "      <td>How do you make a cup of coffee?</td>\n",
              "      <td>What is the process of brewing coffee?</td>\n",
              "      <td>0.224393</td>\n",
              "      <td>not similar</td>\n",
              "    </tr>\n",
              "    <tr>\n",
              "      <th>1</th>\n",
              "      <td>what is your favourite day</td>\n",
              "      <td>what is your favourite season</td>\n",
              "      <td>0.586154</td>\n",
              "      <td>similar</td>\n",
              "    </tr>\n",
              "    <tr>\n",
              "      <th>2</th>\n",
              "      <td>what is the difference between artifical neuro...</td>\n",
              "      <td>why the human brains are so efficient rather t...</td>\n",
              "      <td>0.050672</td>\n",
              "      <td>not similar</td>\n",
              "    </tr>\n",
              "    <tr>\n",
              "      <th>3</th>\n",
              "      <td>What can make Physics easy to learn?</td>\n",
              "      <td>How can you make physics easy to learn?</td>\n",
              "      <td>0.954900</td>\n",
              "      <td>similar</td>\n",
              "    </tr>\n",
              "    <tr>\n",
              "      <th>4</th>\n",
              "      <td>What is the capital of France?</td>\n",
              "      <td>What is the capital of Spain?</td>\n",
              "      <td>0.604505</td>\n",
              "      <td>similar</td>\n",
              "    </tr>\n",
              "  </tbody>\n",
              "</table>\n",
              "</div>\n",
              "      <button class=\"colab-df-convert\" onclick=\"convertToInteractive('df-ae310fae-6a9a-4220-9d43-d08f91842888')\"\n",
              "              title=\"Convert this dataframe to an interactive table.\"\n",
              "              style=\"display:none;\">\n",
              "        \n",
              "  <svg xmlns=\"http://www.w3.org/2000/svg\" height=\"24px\"viewBox=\"0 0 24 24\"\n",
              "       width=\"24px\">\n",
              "    <path d=\"M0 0h24v24H0V0z\" fill=\"none\"/>\n",
              "    <path d=\"M18.56 5.44l.94 2.06.94-2.06 2.06-.94-2.06-.94-.94-2.06-.94 2.06-2.06.94zm-11 1L8.5 8.5l.94-2.06 2.06-.94-2.06-.94L8.5 2.5l-.94 2.06-2.06.94zm10 10l.94 2.06.94-2.06 2.06-.94-2.06-.94-.94-2.06-.94 2.06-2.06.94z\"/><path d=\"M17.41 7.96l-1.37-1.37c-.4-.4-.92-.59-1.43-.59-.52 0-1.04.2-1.43.59L10.3 9.45l-7.72 7.72c-.78.78-.78 2.05 0 2.83L4 21.41c.39.39.9.59 1.41.59.51 0 1.02-.2 1.41-.59l7.78-7.78 2.81-2.81c.8-.78.8-2.07 0-2.86zM5.41 20L4 18.59l7.72-7.72 1.47 1.35L5.41 20z\"/>\n",
              "  </svg>\n",
              "      </button>\n",
              "      \n",
              "  <style>\n",
              "    .colab-df-container {\n",
              "      display:flex;\n",
              "      flex-wrap:wrap;\n",
              "      gap: 12px;\n",
              "    }\n",
              "\n",
              "    .colab-df-convert {\n",
              "      background-color: #E8F0FE;\n",
              "      border: none;\n",
              "      border-radius: 50%;\n",
              "      cursor: pointer;\n",
              "      display: none;\n",
              "      fill: #1967D2;\n",
              "      height: 32px;\n",
              "      padding: 0 0 0 0;\n",
              "      width: 32px;\n",
              "    }\n",
              "\n",
              "    .colab-df-convert:hover {\n",
              "      background-color: #E2EBFA;\n",
              "      box-shadow: 0px 1px 2px rgba(60, 64, 67, 0.3), 0px 1px 3px 1px rgba(60, 64, 67, 0.15);\n",
              "      fill: #174EA6;\n",
              "    }\n",
              "\n",
              "    [theme=dark] .colab-df-convert {\n",
              "      background-color: #3B4455;\n",
              "      fill: #D2E3FC;\n",
              "    }\n",
              "\n",
              "    [theme=dark] .colab-df-convert:hover {\n",
              "      background-color: #434B5C;\n",
              "      box-shadow: 0px 1px 3px 1px rgba(0, 0, 0, 0.15);\n",
              "      filter: drop-shadow(0px 1px 2px rgba(0, 0, 0, 0.3));\n",
              "      fill: #FFFFFF;\n",
              "    }\n",
              "  </style>\n",
              "\n",
              "      <script>\n",
              "        const buttonEl =\n",
              "          document.querySelector('#df-ae310fae-6a9a-4220-9d43-d08f91842888 button.colab-df-convert');\n",
              "        buttonEl.style.display =\n",
              "          google.colab.kernel.accessAllowed ? 'block' : 'none';\n",
              "\n",
              "        async function convertToInteractive(key) {\n",
              "          const element = document.querySelector('#df-ae310fae-6a9a-4220-9d43-d08f91842888');\n",
              "          const dataTable =\n",
              "            await google.colab.kernel.invokeFunction('convertToInteractive',\n",
              "                                                     [key], {});\n",
              "          if (!dataTable) return;\n",
              "\n",
              "          const docLinkHtml = 'Like what you see? Visit the ' +\n",
              "            '<a target=\"_blank\" href=https://colab.research.google.com/notebooks/data_table.ipynb>data table notebook</a>'\n",
              "            + ' to learn more about interactive tables.';\n",
              "          element.innerHTML = '';\n",
              "          dataTable['output_type'] = 'display_data';\n",
              "          await google.colab.output.renderOutput(dataTable, element);\n",
              "          const docLink = document.createElement('div');\n",
              "          docLink.innerHTML = docLinkHtml;\n",
              "          element.appendChild(docLink);\n",
              "        }\n",
              "      </script>\n",
              "    </div>\n",
              "  </div>\n",
              "  "
            ]
          },
          "metadata": {},
          "execution_count": 65
        }
      ]
    },
    {
      "cell_type": "code",
      "source": [
        "\n"
      ],
      "metadata": {
        "id": "90zJceS0cq1w"
      },
      "execution_count": null,
      "outputs": []
    },
    {
      "cell_type": "code",
      "source": [
        "import matplotlib.pyplot as plt\n",
        "\n",
        "plt.plot(history.history['accuracy'])\n",
        "plt.plot(history.history['val_accuracy'])\n",
        "plt.title('Model accuracy')\n",
        "plt.xlabel('Epoch')\n",
        "plt.ylabel('Accuracy')\n",
        "plt.legend(['Train', 'Val'], loc='upper left')\n",
        "plt.show()\n"
      ],
      "metadata": {
        "id": "LhAOL0jXFwfW"
      },
      "execution_count": null,
      "outputs": []
    },
    {
      "cell_type": "code",
      "source": [
        "y_test_list = y_test.values.tolist()\n",
        "\n",
        "test_loss, test_acc = model.evaluate([xtestq1, xtestq2], y_test)\n",
        "print('Test loss:', test_loss)\n",
        "print('Test accuracy:', test_acc)\n"
      ],
      "metadata": {
        "id": "3a8U4nTyGZKv"
      },
      "execution_count": null,
      "outputs": []
    },
    {
      "cell_type": "code",
      "source": [
        "\n",
        "\n",
        "y_pred2=gloveModel.predict(X_test)"
      ],
      "metadata": {
        "id": "y9bBW22OuQNw"
      },
      "execution_count": null,
      "outputs": []
    },
    {
      "cell_type": "code",
      "source": [
        "\n",
        "print(\"     Classification report of Glove LSTM model\\n\")\n",
        "print(classification_report(y_test,y_p))"
      ],
      "metadata": {
        "id": "-78dS3YKLvjG"
      },
      "execution_count": null,
      "outputs": []
    }
  ],
  "metadata": {
    "colab": {
      "provenance": []
    },
    "kernelspec": {
      "display_name": "Python 3",
      "name": "python3"
    },
    "language_info": {
      "name": "python"
    },
    "gpuClass": "standard",
    "accelerator": "GPU"
  },
  "nbformat": 4,
  "nbformat_minor": 0
}